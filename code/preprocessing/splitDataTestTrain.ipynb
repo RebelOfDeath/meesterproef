{
 "cells": [
  {
   "cell_type": "code",
   "execution_count": 1,
   "metadata": {
    "collapsed": true
   },
   "outputs": [],
   "source": [
    "import pandas as pd\n",
    "import numpy as np\n",
    "import matplotlib.pyplot as plt\n",
    "import matplotlib.cm as cm"
   ]
  },
  {
   "cell_type": "code",
   "execution_count": 2,
   "outputs": [
    {
     "data": {
      "text/plain": "(48842, 15)"
     },
     "execution_count": 2,
     "metadata": {},
     "output_type": "execute_result"
    }
   ],
   "source": [
    "data = pd.read_csv('../untouchedData/adult.data.csv')\n",
    "data.shape"
   ],
   "metadata": {
    "collapsed": false
   }
  },
  {
   "cell_type": "code",
   "execution_count": 3,
   "outputs": [],
   "source": [
    "dataModified = data.copy(deep=True);"
   ],
   "metadata": {
    "collapsed": false
   }
  },
  {
   "cell_type": "code",
   "execution_count": 4,
   "outputs": [
    {
     "name": "stderr",
     "output_type": "stream",
     "text": [
      "/tmp/ipykernel_22192/3932954680.py:1: FutureWarning: elementwise comparison failed; returning scalar instead, but in the future will perform elementwise comparison\n",
      "  [feature for feature in dataModified.columns if ' ?' in dataModified[feature].unique() or np.nan in dataModified[feature].unique()]\n"
     ]
    },
    {
     "data": {
      "text/plain": "['workclass', 'occupation', 'native-country']"
     },
     "execution_count": 4,
     "metadata": {},
     "output_type": "execute_result"
    }
   ],
   "source": [
    "[feature for feature in dataModified.columns if ' ?' in dataModified[feature].unique() or np.nan in dataModified[feature].unique()]"
   ],
   "metadata": {
    "collapsed": false
   }
  },
  {
   "cell_type": "code",
   "execution_count": 5,
   "outputs": [
    {
     "data": {
      "text/plain": "(45222, 15)"
     },
     "execution_count": 5,
     "metadata": {},
     "output_type": "execute_result"
    }
   ],
   "source": [
    "for feature in dataModified.columns:\n",
    "    dataModified[feature] = dataModified[feature].replace(' ?', np.nan)\n",
    "dataModified.dropna(how='any', inplace=True)\n",
    "dataModified.shape"
   ],
   "metadata": {
    "collapsed": false
   }
  },
  {
   "cell_type": "code",
   "execution_count": 8,
   "outputs": [
    {
     "data": {
      "text/plain": "<bound method NDFrame.head of        age          workclass  fnlwgt   education  education-num  \\\n0       39          State-gov   77516   Bachelors             13   \n1       50   Self-emp-not-inc   83311   Bachelors             13   \n2       38            Private  215646     HS-grad              9   \n3       53            Private  234721        11th              7   \n4       28            Private  338409   Bachelors             13   \n...    ...                ...     ...         ...            ...   \n48836   33            Private  245211   Bachelors             13   \n48837   39            Private  215419   Bachelors             13   \n48839   38            Private  374983   Bachelors             13   \n48840   44            Private   83891   Bachelors             13   \n48841   35       Self-emp-inc  182148   Bachelors             13   \n\n            marital-status          occupation    relationship  \\\n0            Never-married        Adm-clerical   Not-in-family   \n1       Married-civ-spouse     Exec-managerial         Husband   \n2                 Divorced   Handlers-cleaners   Not-in-family   \n3       Married-civ-spouse   Handlers-cleaners         Husband   \n4       Married-civ-spouse      Prof-specialty            Wife   \n...                    ...                 ...             ...   \n48836        Never-married      Prof-specialty       Own-child   \n48837             Divorced      Prof-specialty   Not-in-family   \n48839   Married-civ-spouse      Prof-specialty         Husband   \n48840             Divorced        Adm-clerical       Own-child   \n48841   Married-civ-spouse     Exec-managerial         Husband   \n\n                      race      sex  capital-gain  capital-loss  \\\n0                    White     Male          2174             0   \n1                    White     Male             0             0   \n2                    White     Male             0             0   \n3                    Black     Male             0             0   \n4                    Black   Female             0             0   \n...                    ...      ...           ...           ...   \n48836                White     Male             0             0   \n48837                White   Female             0             0   \n48839                White     Male             0             0   \n48840   Asian-Pac-Islander     Male          5455             0   \n48841                White     Male             0             0   \n\n       hours-per-week native-country Probability  \n0                  40         Non-US       <=50K  \n1                  13         Non-US       <=50K  \n2                  40         Non-US       <=50K  \n3                  40         Non-US       <=50K  \n4                  40         Non-US       <=50K  \n...               ...            ...         ...  \n48836              40         Non-US       <=50K  \n48837              36         Non-US       <=50K  \n48839              50         Non-US       <=50K  \n48840              40         Non-US       <=50K  \n48841              60         Non-US        >50K  \n\n[45222 rows x 15 columns]>"
     },
     "execution_count": 8,
     "metadata": {},
     "output_type": "execute_result"
    }
   ],
   "source": [
    "dataModified.loc[dataModified['native-country']!=' United-States', 'native-country'] = 'Non-US'\n",
    "dataModified.loc[dataModified['native-country'] == ' United-States', 'native-country'] = 'US'\n",
    "dataModified.head"
   ],
   "metadata": {
    "collapsed": false
   }
  },
  {
   "cell_type": "code",
   "execution_count": 7,
   "outputs": [],
   "source": [
    "trainData = dataModified.sample(frac=0.8, random_state=1)\n",
    "testData = dataModified.copy(deep=True).drop(trainData.index)\n",
    "trainData.to_csv('trainData.csv')\n",
    "testData.to_csv('testData.csv')"
   ],
   "metadata": {
    "collapsed": false
   }
  },
  {
   "cell_type": "code",
   "execution_count": 9,
   "outputs": [
    {
     "data": {
      "text/plain": "(36178, 15)"
     },
     "execution_count": 9,
     "metadata": {},
     "output_type": "execute_result"
    }
   ],
   "source": [
    "trainData.shape"
   ],
   "metadata": {
    "collapsed": false
   }
  },
  {
   "cell_type": "code",
   "execution_count": 10,
   "outputs": [
    {
     "data": {
      "text/plain": "(9044, 15)"
     },
     "execution_count": 10,
     "metadata": {},
     "output_type": "execute_result"
    }
   ],
   "source": [
    "testData.shape"
   ],
   "metadata": {
    "collapsed": false
   }
  }
 ],
 "metadata": {
  "kernelspec": {
   "display_name": "Python 3",
   "language": "python",
   "name": "python3"
  },
  "language_info": {
   "codemirror_mode": {
    "name": "ipython",
    "version": 2
   },
   "file_extension": ".py",
   "mimetype": "text/x-python",
   "name": "python",
   "nbconvert_exporter": "python",
   "pygments_lexer": "ipython2",
   "version": "2.7.6"
  }
 },
 "nbformat": 4,
 "nbformat_minor": 0
}
