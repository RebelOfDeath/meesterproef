{
 "cells": [
  {
   "cell_type": "code",
   "execution_count": 1,
   "metadata": {
    "collapsed": true
   },
   "outputs": [],
   "source": [
    "import numpy as np\n",
    "import matplotlib.pyplot as plt\n",
    "import pandas as pd"
   ]
  },
  {
   "cell_type": "code",
   "execution_count": 2,
   "outputs": [
    {
     "data": {
      "text/plain": "<bound method NDFrame.head of        Unnamed: 0  age          workclass  fnlwgt      education  \\\n0           42106   52            Private  187938   Some-college   \n1           31714   43            Private  169628      Bachelors   \n2           10772   43   Self-emp-not-inc   89636      Bachelors   \n3           15825   32            Private  123291           12th   \n4           40653   32            Private   51150           12th   \n...           ...  ...                ...     ...            ...   \n36173       43443   26            Private  177635           12th   \n36174       20022   21            Private  293968   Some-college   \n36175       43753   51          Local-gov  201040        Masters   \n36176       28323   53            Private  226135            9th   \n36177       13237   23            Private  315065           10th   \n\n       education-num          marital-status          occupation  \\\n0                 10                Divorced               Sales   \n1                 13           Never-married               Sales   \n2                 13      Married-civ-spouse               Sales   \n3                  8      Married-civ-spouse   Machine-op-inspct   \n4                  8      Married-civ-spouse       Other-service   \n...              ...                     ...                 ...   \n36173              8   Married-spouse-absent    Transport-moving   \n36174             10   Married-spouse-absent               Sales   \n36175             14      Married-civ-spouse      Prof-specialty   \n36176              5           Never-married        Craft-repair   \n36177              6           Never-married       Other-service   \n\n         relationship  race  sex  capital-gain  capital-loss  hours-per-week  \\\n0       Not-in-family     1    0             0             0              49   \n1           Unmarried     0    0             0             0              35   \n2                Wife     0    0             0             0              60   \n3             Husband     1    1             0             0              40   \n4                Wife     1    0             0             0              40   \n...               ...   ...  ...           ...           ...             ...   \n36173       Unmarried     1    1             0             0              40   \n36174       Own-child     0    0             0             0              20   \n36175         Husband     1    1             0             0              40   \n36176   Not-in-family     0    1             0             0              40   \n36177       Unmarried     1    1             0             0              60   \n\n       native-country  Probability  \n0       United-States            0  \n1       United-States            1  \n2               South            0  \n3       United-States            0  \n4       United-States            0  \n...               ...          ...  \n36173          Mexico            0  \n36174   United-States            0  \n36175          Mexico            1  \n36176         Jamaica            0  \n36177          Mexico            0  \n\n[36178 rows x 16 columns]>"
     },
     "execution_count": 2,
     "metadata": {},
     "output_type": "execute_result"
    }
   ],
   "source": [
    "dataset = pd.read_csv('./trainData.csv')\n",
    "\n",
    "\n",
    "#changing smbolics to numerics\n",
    "dataset['sex'] = np.where(dataset['sex'] == ' Male', 1, 0) # male is 1\n",
    "dataset['race'] = np.where(dataset['race'] != ' White', 0, 1) # white is 1\n",
    "dataset['Probability'] = np.where(dataset['Probability'] == ' <=50K', 0, 1) # >50k is 1\n",
    "\n",
    "protectedAttributes = ('sex', 'race')\n",
    "dataset.head"
   ],
   "metadata": {
    "collapsed": false
   }
  },
  {
   "cell_type": "code",
   "execution_count": 3,
   "outputs": [],
   "source": [
    "negative_female_nonWhite = (len(dataset[(dataset['Probability'] == 0) & (dataset[protectedAttributes[0]] == 0) & (dataset[protectedAttributes[1]] == 0)]))\n",
    "negative_female_white = (len(dataset[(dataset['Probability'] == 0) & (dataset[protectedAttributes[0]] == 0) & (dataset[protectedAttributes[1]] == 1)]))\n",
    "negative_male_nonWhite = (len(dataset[(dataset['Probability'] == 0) & (dataset[protectedAttributes[0]] == 1) & (dataset[protectedAttributes[1]] == 0)]))\n",
    "negative_male_white = (len(dataset[(dataset['Probability'] == 0) & (dataset[protectedAttributes[0]] == 1) & (dataset[protectedAttributes[1]] == 1)]))\n",
    "positive_female_nonWhite = (len(dataset[(dataset['Probability'] == 1) & (dataset[protectedAttributes[0]] == 0) & (dataset[protectedAttributes[1]] == 0)]))\n",
    "positive_female_white = (len(dataset[(dataset['Probability'] == 1) & (dataset[protectedAttributes[0]] == 0) & (dataset[protectedAttributes[1]] == 1)]))\n",
    "positive_male_nonWhite = (len(dataset[(dataset['Probability'] == 1) & (dataset[protectedAttributes[0]] == 1) & (dataset[protectedAttributes[1]] == 0)]))\n",
    "positive_male_white = (len(dataset[(dataset['Probability'] == 1) & (dataset[protectedAttributes[0]] == 1) & (dataset[protectedAttributes[1]] == 1)]))\n",
    "\n",
    "maximum = max(negative_female_nonWhite, negative_female_white, negative_male_nonWhite, negative_male_white, positive_female_nonWhite, positive_female_white, positive_male_nonWhite, positive_male_white)\n",
    "\n",
    "minimum = min(negative_female_nonWhite, negative_female_white, negative_male_nonWhite, negative_male_white, positive_female_nonWhite, positive_female_white, positive_male_nonWhite, positive_male_white)\n",
    "\n",
    "#to retrieve value from counts follow this format : counts[outcome => 1 is positive 0 is negative][sex => 0 is female and 1 is male][race => 0 is non-white and 1 is white]\n",
    "counts = [[[negative_female_nonWhite, negative_female_white], [negative_male_nonWhite, negative_male_white]], [[positive_female_nonWhite, positive_female_white], [positive_male_nonWhite, positive_male_white]]]\n",
    "\n",
    "cnt = dataset.shape[0]\n",
    "\n",
    "ratio = [[[negative_female_nonWhite / cnt, negative_female_white / cnt], [negative_male_nonWhite / cnt, negative_male_white / cnt]], [[positive_female_nonWhite / cnt, positive_female_white / cnt], [positive_male_nonWhite / cnt, positive_male_white / cnt]]]"
   ],
   "metadata": {
    "collapsed": false
   }
  },
  {
   "cell_type": "code",
   "execution_count": 4,
   "outputs": [
    {
     "name": "stdout",
     "output_type": "stream",
     "text": [
      "0.0046437061197412794\n",
      "458039\n"
     ]
    }
   ],
   "source": [
    "ratioMinimumSubset = minimum / dataset.shape[0]\n",
    "print(ratioMinimumSubset)\n",
    "datapointsRequired = round(2127/ ratioMinimumSubset)\n",
    "print(datapointsRequired)"
   ],
   "metadata": {
    "collapsed": false
   }
  },
  {
   "cell_type": "code",
   "execution_count": 5,
   "outputs": [
    {
     "name": "stdout",
     "output_type": "stream",
     "text": [
      "[[[2056, 8308], [2197, 14608]], [[168, 1184], [630, 7027]]]\n",
      "[[[0.056830117751119465, 0.2296423240643485], [0.060727513958759465, 0.4037813035546465]], [[0.0046437061197412794, 0.032727071701033776], [0.017413897949029797, 0.19423406490132125]]]\n"
     ]
    }
   ],
   "source": [
    "print(counts)\n",
    "print(ratio)"
   ],
   "metadata": {
    "collapsed": false
   }
  }
 ],
 "metadata": {
  "kernelspec": {
   "display_name": "Python 3",
   "language": "python",
   "name": "python3"
  },
  "language_info": {
   "codemirror_mode": {
    "name": "ipython",
    "version": 2
   },
   "file_extension": ".py",
   "mimetype": "text/x-python",
   "name": "python",
   "nbconvert_exporter": "python",
   "pygments_lexer": "ipython2",
   "version": "2.7.6"
  }
 },
 "nbformat": 4,
 "nbformat_minor": 0
}
