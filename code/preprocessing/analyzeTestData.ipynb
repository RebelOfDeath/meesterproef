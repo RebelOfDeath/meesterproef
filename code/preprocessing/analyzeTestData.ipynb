{
 "cells": [
  {
   "cell_type": "code",
   "execution_count": 1,
   "metadata": {
    "collapsed": true
   },
   "outputs": [],
   "source": [
    "import numpy as np\n",
    "import matplotlib.pyplot as plt\n",
    "import pandas as pd"
   ]
  },
  {
   "cell_type": "code",
   "execution_count": 2,
   "outputs": [
    {
     "data": {
      "text/plain": "<bound method NDFrame.head of       Unnamed: 0  age          workclass  fnlwgt      education  \\\n0              9   42            Private  159449      Bachelors   \n1             15   34            Private  245487        7th-8th   \n2             16   25   Self-emp-not-inc  176756        HS-grad   \n3             19   43   Self-emp-not-inc  292175        Masters   \n4             21   54            Private  302146        HS-grad   \n...          ...  ...                ...     ...            ...   \n9039       48824   22            Private  269623   Some-college   \n9040       48827   55            Private  224655        HS-grad   \n9041       48832   61            Private   89686        HS-grad   \n9042       48840   44            Private   83891      Bachelors   \n9043       48841   35       Self-emp-inc  182148      Bachelors   \n\n      education-num       marital-status         occupation    relationship  \\\n0                13   Married-civ-spouse    Exec-managerial         Husband   \n1                 4   Married-civ-spouse   Transport-moving         Husband   \n2                 9        Never-married    Farming-fishing       Own-child   \n3                14             Divorced    Exec-managerial       Unmarried   \n4                 9            Separated      Other-service       Unmarried   \n...             ...                  ...                ...             ...   \n9039             10        Never-married       Craft-repair       Own-child   \n9040              9            Separated    Priv-house-serv   Not-in-family   \n9041              9   Married-civ-spouse              Sales         Husband   \n9042             13             Divorced       Adm-clerical       Own-child   \n9043             13   Married-civ-spouse    Exec-managerial         Husband   \n\n      race  sex  capital-gain  capital-loss  hours-per-week  native-country  \\\n0        1    1          5178             0              40   United-States   \n1        0    1             0             0              45          Mexico   \n2        1    1             0             0              35   United-States   \n3        1    0             0             0              45   United-States   \n4        0    0             0             0              20   United-States   \n...    ...  ...           ...           ...             ...             ...   \n9039     1    1             0             0              40   United-States   \n9040     1    0             0             0              32   United-States   \n9041     1    1             0             0              48   United-States   \n9042     0    1          5455             0              40   United-States   \n9043     1    1             0             0              60   United-States   \n\n      Probability  \n0               1  \n1               0  \n2               0  \n3               1  \n4               0  \n...           ...  \n9039            0  \n9040            0  \n9041            0  \n9042            0  \n9043            1  \n\n[9044 rows x 16 columns]>"
     },
     "execution_count": 2,
     "metadata": {},
     "output_type": "execute_result"
    }
   ],
   "source": [
    "dataset = pd.read_csv('./testData.csv')\n",
    "\n",
    "\n",
    "#changing symbolics to numerics\n",
    "dataset['sex'] = np.where(dataset['sex'] == ' Male', 1, 0) # male is 1\n",
    "dataset['race'] = np.where(dataset['race'] != ' White', 0, 1) # white is 1\n",
    "dataset['Probability'] = np.where(dataset['Probability'] == ' <=50K', 0, 1) # >50k is 1\n",
    "\n",
    "protectedAttributes = ('sex', 'race')\n",
    "dataset.head"
   ],
   "metadata": {
    "collapsed": false
   }
  },
  {
   "cell_type": "code",
   "execution_count": 3,
   "outputs": [],
   "source": [
    "negative_female_nonWhite = (len(dataset[(dataset['Probability'] == 0) & (dataset[protectedAttributes[0]] == 0) & (dataset[protectedAttributes[1]] == 0)]))\n",
    "negative_female_white = (len(dataset[(dataset['Probability'] == 0) & (dataset[protectedAttributes[0]] == 0) & (dataset[protectedAttributes[1]] == 1)]))\n",
    "negative_male_nonWhite = (len(dataset[(dataset['Probability'] == 0) & (dataset[protectedAttributes[0]] == 1) & (dataset[protectedAttributes[1]] == 0)]))\n",
    "negative_male_white = (len(dataset[(dataset['Probability'] == 0) & (dataset[protectedAttributes[0]] == 1) & (dataset[protectedAttributes[1]] == 1)]))\n",
    "positive_female_nonWhite = (len(dataset[(dataset['Probability'] == 1) & (dataset[protectedAttributes[0]] == 0) & (dataset[protectedAttributes[1]] == 0)]))\n",
    "positive_female_white = (len(dataset[(dataset['Probability'] == 1) & (dataset[protectedAttributes[0]] == 0) & (dataset[protectedAttributes[1]] == 1)]))\n",
    "positive_male_nonWhite = (len(dataset[(dataset['Probability'] == 1) & (dataset[protectedAttributes[0]] == 1) & (dataset[protectedAttributes[1]] == 0)]))\n",
    "positive_male_white = (len(dataset[(dataset['Probability'] == 1) & (dataset[protectedAttributes[0]] == 1) & (dataset[protectedAttributes[1]] == 1)]))\n",
    "\n",
    "maximum = max(negative_female_nonWhite, negative_female_white, negative_male_nonWhite, negative_male_white, positive_female_nonWhite, positive_female_white, positive_male_nonWhite, positive_male_white)\n",
    "\n",
    "minimum = min(negative_female_nonWhite, negative_female_white, negative_male_nonWhite, negative_male_white, positive_female_nonWhite, positive_female_white, positive_male_nonWhite, positive_male_white)\n",
    "\n",
    "#to retrieve value from counts follow this format : counts[outcome => 1 is positive 0 is negative][sex => 0 is female and 1 is male][race => 0 is non-white and 1 is white]\n",
    "counts = [[[negative_female_nonWhite, negative_female_white], [negative_male_nonWhite, negative_male_white]], [[positive_female_nonWhite, positive_female_white], [positive_male_nonWhite, positive_male_white]]]\n",
    "\n",
    "cnt = dataset.shape[0]\n",
    "\n",
    "ratio = [[[negative_female_nonWhite / cnt, negative_female_white / cnt], [negative_male_nonWhite / cnt, negative_male_white / cnt]], [[positive_female_nonWhite / cnt, positive_female_white / cnt], [positive_male_nonWhite / cnt, positive_male_white / cnt]]]"
   ],
   "metadata": {
    "collapsed": false
   }
  },
  {
   "cell_type": "code",
   "execution_count": 4,
   "outputs": [
    {
     "name": "stdout",
     "output_type": "stream",
     "text": [
      "0.0050862450243255196\n",
      "418187\n"
     ]
    }
   ],
   "source": [
    "ratioMinimumSubset = minimum / dataset.shape[0]\n",
    "print(ratioMinimumSubset)\n",
    "datapointsRequired = round(2127/ ratioMinimumSubset)\n",
    "print(datapointsRequired)"
   ],
   "metadata": {
    "collapsed": false
   }
  },
  {
   "cell_type": "code",
   "execution_count": 5,
   "outputs": [
    {
     "name": "stdout",
     "output_type": "stream",
     "text": [
      "[[[542, 2120], [523, 3660]], [[46, 271], [157, 1725]]]\n",
      "[[[0.05992923485183547, 0.2344095532950022], [0.057828394515701015, 0.40468819106590004]], [[0.0050862450243255196, 0.029964617425917734], [0.017359575409111015, 0.190734188412207]]]\n"
     ]
    }
   ],
   "source": [
    "print(counts)\n",
    "print(ratio)"
   ],
   "metadata": {
    "collapsed": false
   }
  }
 ],
 "metadata": {
  "kernelspec": {
   "display_name": "Python 3",
   "language": "python",
   "name": "python3"
  },
  "language_info": {
   "codemirror_mode": {
    "name": "ipython",
    "version": 2
   },
   "file_extension": ".py",
   "mimetype": "text/x-python",
   "name": "python",
   "nbconvert_exporter": "python",
   "pygments_lexer": "ipython2",
   "version": "2.7.6"
  }
 },
 "nbformat": 4,
 "nbformat_minor": 0
}
