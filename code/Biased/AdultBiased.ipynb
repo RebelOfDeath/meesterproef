{
 "cells": [
  {
   "cell_type": "code",
   "execution_count": 1,
   "metadata": {
    "collapsed": true
   },
   "outputs": [],
   "source": [
    "import os.path\n",
    "\n",
    "import pandas as pd\n",
    "import numpy as np\n",
    "from sklearn import preprocessing"
   ]
  },
  {
   "cell_type": "code",
   "execution_count": 2,
   "outputs": [],
   "source": [
    "train_dataset = pd.read_csv('../../data/processed/trainData.csv')\n",
    "test_dataset = pd.read_csv('../../data/processed/trainData.csv')"
   ],
   "metadata": {
    "collapsed": false
   }
  },
  {
   "cell_type": "code",
   "execution_count": 3,
   "outputs": [],
   "source": [
    "def preprocess_data(dataset):\n",
    "    print(dataset)\n",
    "    dataset = dataset.drop(['workclass','fnlwgt','education','marital-status','occupation','relationship','native-country'],axis=1)\n",
    "    print(dataset.head)\n",
    "    dataset['sex'] = np.where(dataset['sex'] == ' Male', 1, 0)\n",
    "    dataset['race'] = np.where(dataset['race'] != ' White', 0, 1)\n",
    "    dataset['Probability'] = np.where(dataset['Probability'] == ' <=50K', 0, 1)\n",
    "    dataset['age'] = np.where(dataset['age'] >= 70, 70, dataset['age'])\n",
    "    dataset['age'] = np.where((dataset['age'] >= 60 ) & (dataset['age'] < 70), 60, dataset['age'])\n",
    "    dataset['age'] = np.where((dataset['age'] >= 50 ) & (dataset['age'] < 60), 50, dataset['age'])\n",
    "    dataset['age'] = np.where((dataset['age'] >= 40 ) & (dataset['age'] < 50), 40, dataset['age'])\n",
    "    dataset['age'] = np.where((dataset['age'] >= 30 ) & (dataset['age'] < 40), 30, dataset['age'])\n",
    "    dataset['age'] = np.where((dataset['age'] >= 20 ) & (dataset['age'] < 30), 20, dataset['age'])\n",
    "    dataset['age'] = np.where((dataset['age'] >= 10 ) & (dataset['age'] < 10), 10, dataset['age'])\n",
    "    dataset['age'] = np.where(dataset['age'] < 10, 0, dataset['age'])\n",
    "\n",
    "    return dataset"
   ],
   "metadata": {
    "collapsed": false
   }
  },
  {
   "cell_type": "code",
   "execution_count": 4,
   "outputs": [
    {
     "name": "stdout",
     "output_type": "stream",
     "text": [
      "       age          workclass  fnlwgt      education  education-num  \\\n",
      "0       52            Private  187938   Some-college             10   \n",
      "1       43            Private  169628      Bachelors             13   \n",
      "2       43   Self-emp-not-inc   89636      Bachelors             13   \n",
      "3       32            Private  123291           12th              8   \n",
      "4       32            Private   51150           12th              8   \n",
      "...    ...                ...     ...            ...            ...   \n",
      "36173   26            Private  177635           12th              8   \n",
      "36174   21            Private  293968   Some-college             10   \n",
      "36175   51          Local-gov  201040        Masters             14   \n",
      "36176   53            Private  226135            9th              5   \n",
      "36177   23            Private  315065           10th              6   \n",
      "\n",
      "               marital-status          occupation    relationship  \\\n",
      "0                    Divorced               Sales   Not-in-family   \n",
      "1               Never-married               Sales       Unmarried   \n",
      "2          Married-civ-spouse               Sales            Wife   \n",
      "3          Married-civ-spouse   Machine-op-inspct         Husband   \n",
      "4          Married-civ-spouse       Other-service            Wife   \n",
      "...                       ...                 ...             ...   \n",
      "36173   Married-spouse-absent    Transport-moving       Unmarried   \n",
      "36174   Married-spouse-absent               Sales       Own-child   \n",
      "36175      Married-civ-spouse      Prof-specialty         Husband   \n",
      "36176           Never-married        Craft-repair   Not-in-family   \n",
      "36177           Never-married       Other-service       Unmarried   \n",
      "\n",
      "                      race      sex  capital-gain  capital-loss  \\\n",
      "0                    White   Female             0             0   \n",
      "1                    Black   Female             0             0   \n",
      "2       Asian-Pac-Islander   Female             0             0   \n",
      "3                    White     Male             0             0   \n",
      "4                    White   Female             0             0   \n",
      "...                    ...      ...           ...           ...   \n",
      "36173                White     Male             0             0   \n",
      "36174                Black   Female             0             0   \n",
      "36175                White     Male             0             0   \n",
      "36176                Black     Male             0             0   \n",
      "36177                White     Male             0             0   \n",
      "\n",
      "       hours-per-week  native-country Probability  \n",
      "0                  49   United-States       <=50K  \n",
      "1                  35   United-States        >50K  \n",
      "2                  60           South       <=50K  \n",
      "3                  40   United-States       <=50K  \n",
      "4                  40   United-States       <=50K  \n",
      "...               ...             ...         ...  \n",
      "36173              40          Mexico       <=50K  \n",
      "36174              20   United-States       <=50K  \n",
      "36175              40          Mexico        >50K  \n",
      "36176              40         Jamaica       <=50K  \n",
      "36177              60          Mexico       <=50K  \n",
      "\n",
      "[36178 rows x 15 columns]\n",
      "<bound method NDFrame.head of        age  education-num                 race      sex  capital-gain  \\\n",
      "0       52             10                White   Female             0   \n",
      "1       43             13                Black   Female             0   \n",
      "2       43             13   Asian-Pac-Islander   Female             0   \n",
      "3       32              8                White     Male             0   \n",
      "4       32              8                White   Female             0   \n",
      "...    ...            ...                  ...      ...           ...   \n",
      "36173   26              8                White     Male             0   \n",
      "36174   21             10                Black   Female             0   \n",
      "36175   51             14                White     Male             0   \n",
      "36176   53              5                Black     Male             0   \n",
      "36177   23              6                White     Male             0   \n",
      "\n",
      "       capital-loss  hours-per-week Probability  \n",
      "0                 0              49       <=50K  \n",
      "1                 0              35        >50K  \n",
      "2                 0              60       <=50K  \n",
      "3                 0              40       <=50K  \n",
      "4                 0              40       <=50K  \n",
      "...             ...             ...         ...  \n",
      "36173             0              40       <=50K  \n",
      "36174             0              20       <=50K  \n",
      "36175             0              40        >50K  \n",
      "36176             0              40       <=50K  \n",
      "36177             0              60       <=50K  \n",
      "\n",
      "[36178 rows x 8 columns]>\n",
      "       age  education-num  race  sex  capital-gain  capital-loss  \\\n",
      "0       50             10     1    0             0             0   \n",
      "1       40             13     0    0             0             0   \n",
      "2       40             13     0    0             0             0   \n",
      "3       30              8     1    1             0             0   \n",
      "4       30              8     1    0             0             0   \n",
      "...    ...            ...   ...  ...           ...           ...   \n",
      "36173   20              8     1    1             0             0   \n",
      "36174   20             10     0    0             0             0   \n",
      "36175   50             14     1    1             0             0   \n",
      "36176   50              5     0    1             0             0   \n",
      "36177   20              6     1    1             0             0   \n",
      "\n",
      "       hours-per-week  Probability  \n",
      "0                  49            0  \n",
      "1                  35            1  \n",
      "2                  60            0  \n",
      "3                  40            0  \n",
      "4                  40            0  \n",
      "...               ...          ...  \n",
      "36173              40            0  \n",
      "36174              20            0  \n",
      "36175              40            1  \n",
      "36176              40            0  \n",
      "36177              60            0  \n",
      "\n",
      "[36178 rows x 8 columns]\n",
      "       age          workclass  fnlwgt      education  education-num  \\\n",
      "0       52            Private  187938   Some-college             10   \n",
      "1       43            Private  169628      Bachelors             13   \n",
      "2       43   Self-emp-not-inc   89636      Bachelors             13   \n",
      "3       32            Private  123291           12th              8   \n",
      "4       32            Private   51150           12th              8   \n",
      "...    ...                ...     ...            ...            ...   \n",
      "36173   26            Private  177635           12th              8   \n",
      "36174   21            Private  293968   Some-college             10   \n",
      "36175   51          Local-gov  201040        Masters             14   \n",
      "36176   53            Private  226135            9th              5   \n",
      "36177   23            Private  315065           10th              6   \n",
      "\n",
      "               marital-status          occupation    relationship  \\\n",
      "0                    Divorced               Sales   Not-in-family   \n",
      "1               Never-married               Sales       Unmarried   \n",
      "2          Married-civ-spouse               Sales            Wife   \n",
      "3          Married-civ-spouse   Machine-op-inspct         Husband   \n",
      "4          Married-civ-spouse       Other-service            Wife   \n",
      "...                       ...                 ...             ...   \n",
      "36173   Married-spouse-absent    Transport-moving       Unmarried   \n",
      "36174   Married-spouse-absent               Sales       Own-child   \n",
      "36175      Married-civ-spouse      Prof-specialty         Husband   \n",
      "36176           Never-married        Craft-repair   Not-in-family   \n",
      "36177           Never-married       Other-service       Unmarried   \n",
      "\n",
      "                      race      sex  capital-gain  capital-loss  \\\n",
      "0                    White   Female             0             0   \n",
      "1                    Black   Female             0             0   \n",
      "2       Asian-Pac-Islander   Female             0             0   \n",
      "3                    White     Male             0             0   \n",
      "4                    White   Female             0             0   \n",
      "...                    ...      ...           ...           ...   \n",
      "36173                White     Male             0             0   \n",
      "36174                Black   Female             0             0   \n",
      "36175                White     Male             0             0   \n",
      "36176                Black     Male             0             0   \n",
      "36177                White     Male             0             0   \n",
      "\n",
      "       hours-per-week  native-country Probability  \n",
      "0                  49   United-States       <=50K  \n",
      "1                  35   United-States        >50K  \n",
      "2                  60           South       <=50K  \n",
      "3                  40   United-States       <=50K  \n",
      "4                  40   United-States       <=50K  \n",
      "...               ...             ...         ...  \n",
      "36173              40          Mexico       <=50K  \n",
      "36174              20   United-States       <=50K  \n",
      "36175              40          Mexico        >50K  \n",
      "36176              40         Jamaica       <=50K  \n",
      "36177              60          Mexico       <=50K  \n",
      "\n",
      "[36178 rows x 15 columns]\n",
      "<bound method NDFrame.head of        age  education-num                 race      sex  capital-gain  \\\n",
      "0       52             10                White   Female             0   \n",
      "1       43             13                Black   Female             0   \n",
      "2       43             13   Asian-Pac-Islander   Female             0   \n",
      "3       32              8                White     Male             0   \n",
      "4       32              8                White   Female             0   \n",
      "...    ...            ...                  ...      ...           ...   \n",
      "36173   26              8                White     Male             0   \n",
      "36174   21             10                Black   Female             0   \n",
      "36175   51             14                White     Male             0   \n",
      "36176   53              5                Black     Male             0   \n",
      "36177   23              6                White     Male             0   \n",
      "\n",
      "       capital-loss  hours-per-week Probability  \n",
      "0                 0              49       <=50K  \n",
      "1                 0              35        >50K  \n",
      "2                 0              60       <=50K  \n",
      "3                 0              40       <=50K  \n",
      "4                 0              40       <=50K  \n",
      "...             ...             ...         ...  \n",
      "36173             0              40       <=50K  \n",
      "36174             0              20       <=50K  \n",
      "36175             0              40        >50K  \n",
      "36176             0              40       <=50K  \n",
      "36177             0              60       <=50K  \n",
      "\n",
      "[36178 rows x 8 columns]>\n",
      "       age  education-num  race  sex  capital-gain  capital-loss  \\\n",
      "0       50             10     1    0             0             0   \n",
      "1       40             13     0    0             0             0   \n",
      "2       40             13     0    0             0             0   \n",
      "3       30              8     1    1             0             0   \n",
      "4       30              8     1    0             0             0   \n",
      "...    ...            ...   ...  ...           ...           ...   \n",
      "36173   20              8     1    1             0             0   \n",
      "36174   20             10     0    0             0             0   \n",
      "36175   50             14     1    1             0             0   \n",
      "36176   50              5     0    1             0             0   \n",
      "36177   20              6     1    1             0             0   \n",
      "\n",
      "       hours-per-week  Probability  \n",
      "0                  49            0  \n",
      "1                  35            1  \n",
      "2                  60            0  \n",
      "3                  40            0  \n",
      "4                  40            0  \n",
      "...               ...          ...  \n",
      "36173              40            0  \n",
      "36174              20            0  \n",
      "36175              40            1  \n",
      "36176              40            0  \n",
      "36177              60            0  \n",
      "\n",
      "[36178 rows x 8 columns]\n"
     ]
    }
   ],
   "source": [
    "train_dataset = preprocess_data(train_dataset)\n",
    "print(train_dataset)\n",
    "test_dataset = preprocess_data(test_dataset)\n",
    "print(test_dataset)"
   ],
   "metadata": {
    "collapsed": false
   }
  },
  {
   "cell_type": "code",
   "execution_count": 5,
   "outputs": [],
   "source": [
    "from sklearn.preprocessing import MinMaxScaler\n",
    "\n",
    "scaler = MinMaxScaler()\n",
    "scaler.fit(train_dataset)\n",
    "train_dataset = pd.DataFrame(scaler.transform(train_dataset), columns = train_dataset.columns)\n",
    "test_dataset = pd.DataFrame(scaler.transform(test_dataset), columns = train_dataset.columns)"
   ],
   "metadata": {
    "collapsed": false
   }
  },
  {
   "cell_type": "code",
   "execution_count": 6,
   "outputs": [],
   "source": [
    "x_train, y_train = train_dataset.loc[:, train_dataset.columns != 'Probability'], train_dataset['Probability']\n",
    "x_test, y_test = test_dataset.loc[:, test_dataset.columns != 'Probability'], test_dataset['Probability']"
   ],
   "metadata": {
    "collapsed": false
   }
  },
  {
   "cell_type": "code",
   "execution_count": 7,
   "outputs": [],
   "source": [
    "from sklearn.ensemble import RandomForestClassifier\n",
    "\n",
    "classifier = RandomForestClassifier(n_estimators=100)\n",
    "classifier.fit(x_train, y_train)\n",
    "\n",
    "y_pred = classifier.predict(x_test)"
   ],
   "metadata": {
    "collapsed": false
   }
  },
  {
   "cell_type": "code",
   "execution_count": 8,
   "outputs": [
    {
     "name": "stdout",
     "output_type": "stream",
     "text": [
      "Accuracy score: 0.8669633478909835\n"
     ]
    }
   ],
   "source": [
    "from sklearn.metrics import accuracy_score\n",
    "\n",
    "print(\"Accuracy score: {}\".format(accuracy_score(y_test, y_pred)))"
   ],
   "metadata": {
    "collapsed": false
   }
  },
  {
   "cell_type": "code",
   "execution_count": 9,
   "outputs": [
    {
     "name": "stdout",
     "output_type": "stream",
     "text": [
      "Accuracy score: 0.8146940129360385\n"
     ]
    }
   ],
   "source": [
    "from sklearn.linear_model import LogisticRegression\n",
    "\n",
    "logistic_classifier = LogisticRegression(C=1.0, penalty='l2', solver='liblinear', max_iter=100)\n",
    "logistic_classifier.fit(x_train, y_train)\n",
    "\n",
    "y_pred_logistic = logistic_classifier.predict(x_test)\n",
    "\n",
    "print(\"Accuracy score: {}\".format(accuracy_score(y_test, y_pred_logistic)))\n"
   ],
   "metadata": {
    "collapsed": false
   }
  },
  {
   "cell_type": "code",
   "execution_count": 10,
   "outputs": [
    {
     "name": "stdout",
     "output_type": "stream",
     "text": [
      "[[25960  1209]\n",
      " [ 3604  5405]]\n",
      "[[25623  1546]\n",
      " [ 5158  3851]]\n"
     ]
    }
   ],
   "source": [
    "from sklearn.metrics import confusion_matrix\n",
    "\n",
    "\n",
    "\n",
    "print(confusion_matrix(y_test, y_pred))\n",
    "print(confusion_matrix(y_test, y_pred_logistic))"
   ],
   "metadata": {
    "collapsed": false
   }
  },
  {
   "cell_type": "code",
   "execution_count": 11,
   "outputs": [
    {
     "name": "stdout",
     "output_type": "stream",
     "text": [
      "              precision    recall  f1-score   support\n",
      "\n",
      "       <=50k       0.88      0.96      0.92     27169\n",
      "        >50k       0.82      0.60      0.69      9009\n",
      "\n",
      "    accuracy                           0.87     36178\n",
      "   macro avg       0.85      0.78      0.80     36178\n",
      "weighted avg       0.86      0.87      0.86     36178\n",
      "\n",
      "              precision    recall  f1-score   support\n",
      "\n",
      "       <=50k       0.83      0.94      0.88     27169\n",
      "        >50k       0.71      0.43      0.53      9009\n",
      "\n",
      "    accuracy                           0.81     36178\n",
      "   macro avg       0.77      0.69      0.71     36178\n",
      "weighted avg       0.80      0.81      0.80     36178\n",
      "\n"
     ]
    }
   ],
   "source": [
    "from sklearn.metrics import classification_report\n",
    "\n",
    "print(classification_report(y_test, y_pred, target_names=['<=50k', '>50k']))\n",
    "print(classification_report(y_test, y_pred_logistic, target_names=['<=50k', '>50k']))"
   ],
   "metadata": {
    "collapsed": false
   }
  },
  {
   "cell_type": "code",
   "execution_count": 12,
   "outputs": [
    {
     "name": "stderr",
     "output_type": "stream",
     "text": [
      "/home/roham_ml/anaconda3/lib/python3.9/site-packages/sklearn/utils/deprecation.py:87: FutureWarning: Function plot_roc_curve is deprecated; Function :func:`plot_roc_curve` is deprecated in 1.0 and will be removed in 1.2. Use one of the class methods: :meth:`sklearn.metric.RocCurveDisplay.from_predictions` or :meth:`sklearn.metric.RocCurveDisplay.from_estimator`.\n",
      "  warnings.warn(msg, category=FutureWarning)\n",
      "/home/roham_ml/anaconda3/lib/python3.9/site-packages/sklearn/utils/deprecation.py:87: FutureWarning: Function plot_roc_curve is deprecated; Function :func:`plot_roc_curve` is deprecated in 1.0 and will be removed in 1.2. Use one of the class methods: :meth:`sklearn.metric.RocCurveDisplay.from_predictions` or :meth:`sklearn.metric.RocCurveDisplay.from_estimator`.\n",
      "  warnings.warn(msg, category=FutureWarning)\n"
     ]
    },
    {
     "data": {
      "text/plain": "<sklearn.metrics._plot.roc_curve.RocCurveDisplay at 0x7f851434e7f0>"
     },
     "execution_count": 12,
     "metadata": {},
     "output_type": "execute_result"
    },
    {
     "data": {
      "text/plain": "<Figure size 640x480 with 1 Axes>",
      "image/png": "[encoded data removed]"
     },
     "metadata": {},
     "output_type": "display_data"
    },
    {
     "data": {
      "text/plain": "<Figure size 640x480 with 1 Axes>",
      "image/png": "[encoded data removed]"
     },
     "metadata": {},
     "output_type": "display_data"
    }
   ],
   "source": [
    "from sklearn.metrics import plot_roc_curve\n",
    "\n",
    "plot_roc_curve(classifier, x_test, y_test)\n",
    "plot_roc_curve(logistic_classifier, x_test, y_test)"
   ],
   "metadata": {
    "collapsed": false
   }
  },
  {
   "cell_type": "code",
   "execution_count": 13,
   "outputs": [
    {
     "name": "stdout",
     "output_type": "stream",
     "text": [
      "\n",
      "\n",
      "\n",
      "metrics for random forest classifier:\n",
      "recall : 0.6\n",
      "far : 0.05\n",
      "precision : 0.82\n",
      "accuracy : 0.87\n",
      "F1 Score : 0.69\n",
      "aod :sex 0.06\n",
      "eod :sex 0.17\n",
      "SPD: 0.19\n",
      "DI: 0.75\n",
      "-------------\n",
      "recall : 0.6\n",
      "far : 0.05\n",
      "precision : 0.82\n",
      "accuracy : 0.87\n",
      "F1 Score : 0.69\n",
      "aod :race -0.01\n",
      "eod :race 0.0\n",
      "SPD: 0.09\n",
      "DI: 0.41\n",
      "\n",
      "\n",
      "\n",
      "metrics for Logistic regression:\n",
      "recall : 0.43\n",
      "far : 0.06\n",
      "precision : 0.71\n",
      "accuracy : 0.81\n",
      "F1 Score : 0.54\n",
      "aod :sex 0.1\n",
      "eod :sex 0.28\n",
      "SPD: 0.18\n",
      "DI: 0.86\n",
      "-------------\n",
      "recall : 0.43\n",
      "far : 0.06\n",
      "precision : 0.71\n",
      "accuracy : 0.81\n",
      "F1 Score : 0.54\n",
      "aod :race 0.04\n",
      "eod :race 0.13\n",
      "SPD: 0.1\n",
      "DI: 0.6\n"
     ]
    }
   ],
   "source": [
    "from Metrics import *\n",
    "\n",
    "protected_attributes = ('sex', 'race')\n",
    "\n",
    "def get_allround_metrics(test_dataset, classifier, x_train, y_train, x_test, y_test, protected_attributes):\n",
    "\n",
    "    print(\"recall :\", measure_final_score(test_dataset, classifier, x_train, y_train, x_test, y_test, protected_attributes[0], 'recall'))\n",
    "    print(\"far :\",measure_final_score(test_dataset, classifier, x_train, y_train, x_test, y_test, protected_attributes[0], 'far'))\n",
    "    print(\"precision :\", measure_final_score(test_dataset, classifier, x_train, y_train, x_test, y_test, protected_attributes[0], 'precision'))\n",
    "    print(\"accuracy :\",measure_final_score(test_dataset, classifier, x_train, y_train, x_test, y_test, protected_attributes[0], 'accuracy'))\n",
    "    print(\"F1 Score :\",measure_final_score(test_dataset, classifier, x_train, y_train, x_test, y_test, protected_attributes[0], 'F1'))\n",
    "    print(\"aod :\"+protected_attributes[0],measure_final_score(test_dataset, classifier, x_train, y_train, x_test, y_test, protected_attributes[0], 'aod'))\n",
    "    print(\"eod :\"+protected_attributes[0],measure_final_score(test_dataset, classifier, x_train, y_train, x_test, y_test, protected_attributes[0], 'eod'))\n",
    "\n",
    "    print(\"SPD:\",measure_final_score(test_dataset, classifier, x_train, y_train, x_test, y_test, protected_attributes[0], 'SPD'))\n",
    "    print(\"DI:\",measure_final_score(test_dataset, classifier, x_train, y_train, x_test, y_test, protected_attributes[0], 'DI'))\n",
    "\n",
    "    print(\"-------------\")\n",
    "\n",
    "    print(\"recall :\", measure_final_score(test_dataset, classifier, x_train, y_train, x_test, y_test, protected_attributes[1], 'recall'))\n",
    "    print(\"far :\",measure_final_score(test_dataset, classifier, x_train, y_train, x_test, y_test, protected_attributes[1], 'far'))\n",
    "    print(\"precision :\", measure_final_score(test_dataset, classifier, x_train, y_train, x_test, y_test, protected_attributes[1], 'precision'))\n",
    "    print(\"accuracy :\",measure_final_score(test_dataset, classifier, x_train, y_train, x_test, y_test, protected_attributes[1], 'accuracy'))\n",
    "    print(\"F1 Score :\",measure_final_score(test_dataset, classifier, x_train, y_train, x_test, y_test, protected_attributes[1], 'F1'))\n",
    "    print(\"aod :\"+protected_attributes[1],measure_final_score(test_dataset, classifier, x_train, y_train, x_test, y_test, protected_attributes[1], 'aod'))\n",
    "    print(\"eod :\"+protected_attributes[1],measure_final_score(test_dataset, classifier, x_train, y_train, x_test, y_test, protected_attributes[1], 'eod'))\n",
    "\n",
    "    print(\"SPD:\",measure_final_score(test_dataset, classifier, x_train, y_train, x_test, y_test, protected_attributes[1], 'SPD'))\n",
    "    print(\"DI:\",measure_final_score(test_dataset, classifier, x_train, y_train, x_test, y_test, protected_attributes[1], 'DI'))\n",
    "\n",
    "print(\"\\n\\n\\nmetrics for random forest classifier:\")\n",
    "get_allround_metrics(test_dataset, classifier, x_train, y_train, x_test, y_test, protected_attributes)\n",
    "\n",
    "print(\"\\n\\n\\nmetrics for Logistic regression:\")\n",
    "get_allround_metrics(test_dataset, logistic_classifier, x_train, y_train, x_test, y_test, protected_attributes)\n"
   ],
   "metadata": {
    "collapsed": false
   }
  }
 ],
 "metadata": {
  "kernelspec": {
   "display_name": "Python 3",
   "language": "python",
   "name": "python3"
  },
  "language_info": {
   "codemirror_mode": {
    "name": "ipython",
    "version": 2
   },
   "file_extension": ".py",
   "mimetype": "text/x-python",
   "name": "python",
   "nbconvert_exporter": "python",
   "pygments_lexer": "ipython2",
   "version": "2.7.6"
  }
 },
 "nbformat": 4,
 "nbformat_minor": 0
}
