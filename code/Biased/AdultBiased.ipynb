{
 "cells": [
  {
   "cell_type": "code",
   "execution_count": 1,
   "metadata": {
    "collapsed": true
   },
   "outputs": [],
   "source": [
    "import os.path\n",
    "\n",
    "import pandas as pd\n",
    "import numpy as np\n",
    "from sklearn import preprocessing"
   ]
  },
  {
   "cell_type": "code",
   "execution_count": 2,
   "outputs": [],
   "source": [
    "train_dataset = pd.read_csv('../../data/processed/trainData.csv')\n",
    "test_dataset = pd.read_csv('../../data/processed/testData.csv')"
   ],
   "metadata": {
    "collapsed": false
   }
  },
  {
   "cell_type": "code",
   "execution_count": 3,
   "outputs": [
    {
     "data": {
      "text/plain": "       age          workclass  fnlwgt      education  education-num  \\\n0       52            Private  187938   Some-college             10   \n1       43            Private  169628      Bachelors             13   \n2       43   Self-emp-not-inc   89636      Bachelors             13   \n3       32            Private  123291           12th              8   \n4       32            Private   51150           12th              8   \n...    ...                ...     ...            ...            ...   \n36173   26            Private  177635           12th              8   \n36174   21            Private  293968   Some-college             10   \n36175   51          Local-gov  201040        Masters             14   \n36176   53            Private  226135            9th              5   \n36177   23            Private  315065           10th              6   \n\n               marital-status          occupation    relationship  \\\n0                    Divorced               Sales   Not-in-family   \n1               Never-married               Sales       Unmarried   \n2          Married-civ-spouse               Sales            Wife   \n3          Married-civ-spouse   Machine-op-inspct         Husband   \n4          Married-civ-spouse       Other-service            Wife   \n...                       ...                 ...             ...   \n36173   Married-spouse-absent    Transport-moving       Unmarried   \n36174   Married-spouse-absent               Sales       Own-child   \n36175      Married-civ-spouse      Prof-specialty         Husband   \n36176           Never-married        Craft-repair   Not-in-family   \n36177           Never-married       Other-service       Unmarried   \n\n                      race      sex  capital-gain  capital-loss  \\\n0                    White   Female             0             0   \n1                    Black   Female             0             0   \n2       Asian-Pac-Islander   Female             0             0   \n3                    White     Male             0             0   \n4                    White   Female             0             0   \n...                    ...      ...           ...           ...   \n36173                White     Male             0             0   \n36174                Black   Female             0             0   \n36175                White     Male             0             0   \n36176                Black     Male             0             0   \n36177                White     Male             0             0   \n\n       hours-per-week  native-country Probability  \n0                  49   United-States       <=50K  \n1                  35   United-States        >50K  \n2                  60           South       <=50K  \n3                  40   United-States       <=50K  \n4                  40   United-States       <=50K  \n...               ...             ...         ...  \n36173              40          Mexico       <=50K  \n36174              20   United-States       <=50K  \n36175              40          Mexico        >50K  \n36176              40         Jamaica       <=50K  \n36177              60          Mexico       <=50K  \n\n[36178 rows x 15 columns]",
      "text/html": "<div>\n<style scoped>\n    .dataframe tbody tr th:only-of-type {\n        vertical-align: middle;\n    }\n\n    .dataframe tbody tr th {\n        vertical-align: top;\n    }\n\n    .dataframe thead th {\n        text-align: right;\n    }\n</style>\n<table border=\"1\" class=\"dataframe\">\n  <thead>\n    <tr style=\"text-align: right;\">\n      <th></th>\n      <th>age</th>\n      <th>workclass</th>\n      <th>fnlwgt</th>\n      <th>education</th>\n      <th>education-num</th>\n      <th>marital-status</th>\n      <th>occupation</th>\n      <th>relationship</th>\n      <th>race</th>\n      <th>sex</th>\n      <th>capital-gain</th>\n      <th>capital-loss</th>\n      <th>hours-per-week</th>\n      <th>native-country</th>\n      <th>Probability</th>\n    </tr>\n  </thead>\n  <tbody>\n    <tr>\n      <th>0</th>\n      <td>52</td>\n      <td>Private</td>\n      <td>187938</td>\n      <td>Some-college</td>\n      <td>10</td>\n      <td>Divorced</td>\n      <td>Sales</td>\n      <td>Not-in-family</td>\n      <td>White</td>\n      <td>Female</td>\n      <td>0</td>\n      <td>0</td>\n      <td>49</td>\n      <td>United-States</td>\n      <td>&lt;=50K</td>\n    </tr>\n    <tr>\n      <th>1</th>\n      <td>43</td>\n      <td>Private</td>\n      <td>169628</td>\n      <td>Bachelors</td>\n      <td>13</td>\n      <td>Never-married</td>\n      <td>Sales</td>\n      <td>Unmarried</td>\n      <td>Black</td>\n      <td>Female</td>\n      <td>0</td>\n      <td>0</td>\n      <td>35</td>\n      <td>United-States</td>\n      <td>&gt;50K</td>\n    </tr>\n    <tr>\n      <th>2</th>\n      <td>43</td>\n      <td>Self-emp-not-inc</td>\n      <td>89636</td>\n      <td>Bachelors</td>\n      <td>13</td>\n      <td>Married-civ-spouse</td>\n      <td>Sales</td>\n      <td>Wife</td>\n      <td>Asian-Pac-Islander</td>\n      <td>Female</td>\n      <td>0</td>\n      <td>0</td>\n      <td>60</td>\n      <td>South</td>\n      <td>&lt;=50K</td>\n    </tr>\n    <tr>\n      <th>3</th>\n      <td>32</td>\n      <td>Private</td>\n      <td>123291</td>\n      <td>12th</td>\n      <td>8</td>\n      <td>Married-civ-spouse</td>\n      <td>Machine-op-inspct</td>\n      <td>Husband</td>\n      <td>White</td>\n      <td>Male</td>\n      <td>0</td>\n      <td>0</td>\n      <td>40</td>\n      <td>United-States</td>\n      <td>&lt;=50K</td>\n    </tr>\n    <tr>\n      <th>4</th>\n      <td>32</td>\n      <td>Private</td>\n      <td>51150</td>\n      <td>12th</td>\n      <td>8</td>\n      <td>Married-civ-spouse</td>\n      <td>Other-service</td>\n      <td>Wife</td>\n      <td>White</td>\n      <td>Female</td>\n      <td>0</td>\n      <td>0</td>\n      <td>40</td>\n      <td>United-States</td>\n      <td>&lt;=50K</td>\n    </tr>\n    <tr>\n      <th>...</th>\n      <td>...</td>\n      <td>...</td>\n      <td>...</td>\n      <td>...</td>\n      <td>...</td>\n      <td>...</td>\n      <td>...</td>\n      <td>...</td>\n      <td>...</td>\n      <td>...</td>\n      <td>...</td>\n      <td>...</td>\n      <td>...</td>\n      <td>...</td>\n      <td>...</td>\n    </tr>\n    <tr>\n      <th>36173</th>\n      <td>26</td>\n      <td>Private</td>\n      <td>177635</td>\n      <td>12th</td>\n      <td>8</td>\n      <td>Married-spouse-absent</td>\n      <td>Transport-moving</td>\n      <td>Unmarried</td>\n      <td>White</td>\n      <td>Male</td>\n      <td>0</td>\n      <td>0</td>\n      <td>40</td>\n      <td>Mexico</td>\n      <td>&lt;=50K</td>\n    </tr>\n    <tr>\n      <th>36174</th>\n      <td>21</td>\n      <td>Private</td>\n      <td>293968</td>\n      <td>Some-college</td>\n      <td>10</td>\n      <td>Married-spouse-absent</td>\n      <td>Sales</td>\n      <td>Own-child</td>\n      <td>Black</td>\n      <td>Female</td>\n      <td>0</td>\n      <td>0</td>\n      <td>20</td>\n      <td>United-States</td>\n      <td>&lt;=50K</td>\n    </tr>\n    <tr>\n      <th>36175</th>\n      <td>51</td>\n      <td>Local-gov</td>\n      <td>201040</td>\n      <td>Masters</td>\n      <td>14</td>\n      <td>Married-civ-spouse</td>\n      <td>Prof-specialty</td>\n      <td>Husband</td>\n      <td>White</td>\n      <td>Male</td>\n      <td>0</td>\n      <td>0</td>\n      <td>40</td>\n      <td>Mexico</td>\n      <td>&gt;50K</td>\n    </tr>\n    <tr>\n      <th>36176</th>\n      <td>53</td>\n      <td>Private</td>\n      <td>226135</td>\n      <td>9th</td>\n      <td>5</td>\n      <td>Never-married</td>\n      <td>Craft-repair</td>\n      <td>Not-in-family</td>\n      <td>Black</td>\n      <td>Male</td>\n      <td>0</td>\n      <td>0</td>\n      <td>40</td>\n      <td>Jamaica</td>\n      <td>&lt;=50K</td>\n    </tr>\n    <tr>\n      <th>36177</th>\n      <td>23</td>\n      <td>Private</td>\n      <td>315065</td>\n      <td>10th</td>\n      <td>6</td>\n      <td>Never-married</td>\n      <td>Other-service</td>\n      <td>Unmarried</td>\n      <td>White</td>\n      <td>Male</td>\n      <td>0</td>\n      <td>0</td>\n      <td>60</td>\n      <td>Mexico</td>\n      <td>&lt;=50K</td>\n    </tr>\n  </tbody>\n</table>\n<p>36178 rows × 15 columns</p>\n</div>"
     },
     "execution_count": 3,
     "metadata": {},
     "output_type": "execute_result"
    }
   ],
   "source": [
    "train_dataset"
   ],
   "metadata": {
    "collapsed": false
   }
  },
  {
   "cell_type": "code",
   "execution_count": 4,
   "outputs": [
    {
     "data": {
      "text/plain": "      age          workclass  fnlwgt      education  education-num  \\\n0      42            Private  159449      Bachelors             13   \n1      34            Private  245487        7th-8th              4   \n2      25   Self-emp-not-inc  176756        HS-grad              9   \n3      43   Self-emp-not-inc  292175        Masters             14   \n4      54            Private  302146        HS-grad              9   \n...   ...                ...     ...            ...            ...   \n9039   22            Private  269623   Some-college             10   \n9040   55            Private  224655        HS-grad              9   \n9041   61            Private   89686        HS-grad              9   \n9042   44            Private   83891      Bachelors             13   \n9043   35       Self-emp-inc  182148      Bachelors             13   \n\n           marital-status         occupation    relationship  \\\n0      Married-civ-spouse    Exec-managerial         Husband   \n1      Married-civ-spouse   Transport-moving         Husband   \n2           Never-married    Farming-fishing       Own-child   \n3                Divorced    Exec-managerial       Unmarried   \n4               Separated      Other-service       Unmarried   \n...                   ...                ...             ...   \n9039        Never-married       Craft-repair       Own-child   \n9040            Separated    Priv-house-serv   Not-in-family   \n9041   Married-civ-spouse              Sales         Husband   \n9042             Divorced       Adm-clerical       Own-child   \n9043   Married-civ-spouse    Exec-managerial         Husband   \n\n                     race      sex  capital-gain  capital-loss  \\\n0                   White     Male          5178             0   \n1      Amer-Indian-Eskimo     Male             0             0   \n2                   White     Male             0             0   \n3                   White   Female             0             0   \n4                   Black   Female             0             0   \n...                   ...      ...           ...           ...   \n9039                White     Male             0             0   \n9040                White   Female             0             0   \n9041                White     Male             0             0   \n9042   Asian-Pac-Islander     Male          5455             0   \n9043                White     Male             0             0   \n\n      hours-per-week  native-country Probability  \n0                 40   United-States        >50K  \n1                 45          Mexico       <=50K  \n2                 35   United-States       <=50K  \n3                 45   United-States        >50K  \n4                 20   United-States       <=50K  \n...              ...             ...         ...  \n9039              40   United-States       <=50K  \n9040              32   United-States       <=50K  \n9041              48   United-States       <=50K  \n9042              40   United-States       <=50K  \n9043              60   United-States        >50K  \n\n[9044 rows x 15 columns]",
      "text/html": "<div>\n<style scoped>\n    .dataframe tbody tr th:only-of-type {\n        vertical-align: middle;\n    }\n\n    .dataframe tbody tr th {\n        vertical-align: top;\n    }\n\n    .dataframe thead th {\n        text-align: right;\n    }\n</style>\n<table border=\"1\" class=\"dataframe\">\n  <thead>\n    <tr style=\"text-align: right;\">\n      <th></th>\n      <th>age</th>\n      <th>workclass</th>\n      <th>fnlwgt</th>\n      <th>education</th>\n      <th>education-num</th>\n      <th>marital-status</th>\n      <th>occupation</th>\n      <th>relationship</th>\n      <th>race</th>\n      <th>sex</th>\n      <th>capital-gain</th>\n      <th>capital-loss</th>\n      <th>hours-per-week</th>\n      <th>native-country</th>\n      <th>Probability</th>\n    </tr>\n  </thead>\n  <tbody>\n    <tr>\n      <th>0</th>\n      <td>42</td>\n      <td>Private</td>\n      <td>159449</td>\n      <td>Bachelors</td>\n      <td>13</td>\n      <td>Married-civ-spouse</td>\n      <td>Exec-managerial</td>\n      <td>Husband</td>\n      <td>White</td>\n      <td>Male</td>\n      <td>5178</td>\n      <td>0</td>\n      <td>40</td>\n      <td>United-States</td>\n      <td>&gt;50K</td>\n    </tr>\n    <tr>\n      <th>1</th>\n      <td>34</td>\n      <td>Private</td>\n      <td>245487</td>\n      <td>7th-8th</td>\n      <td>4</td>\n      <td>Married-civ-spouse</td>\n      <td>Transport-moving</td>\n      <td>Husband</td>\n      <td>Amer-Indian-Eskimo</td>\n      <td>Male</td>\n      <td>0</td>\n      <td>0</td>\n      <td>45</td>\n      <td>Mexico</td>\n      <td>&lt;=50K</td>\n    </tr>\n    <tr>\n      <th>2</th>\n      <td>25</td>\n      <td>Self-emp-not-inc</td>\n      <td>176756</td>\n      <td>HS-grad</td>\n      <td>9</td>\n      <td>Never-married</td>\n      <td>Farming-fishing</td>\n      <td>Own-child</td>\n      <td>White</td>\n      <td>Male</td>\n      <td>0</td>\n      <td>0</td>\n      <td>35</td>\n      <td>United-States</td>\n      <td>&lt;=50K</td>\n    </tr>\n    <tr>\n      <th>3</th>\n      <td>43</td>\n      <td>Self-emp-not-inc</td>\n      <td>292175</td>\n      <td>Masters</td>\n      <td>14</td>\n      <td>Divorced</td>\n      <td>Exec-managerial</td>\n      <td>Unmarried</td>\n      <td>White</td>\n      <td>Female</td>\n      <td>0</td>\n      <td>0</td>\n      <td>45</td>\n      <td>United-States</td>\n      <td>&gt;50K</td>\n    </tr>\n    <tr>\n      <th>4</th>\n      <td>54</td>\n      <td>Private</td>\n      <td>302146</td>\n      <td>HS-grad</td>\n      <td>9</td>\n      <td>Separated</td>\n      <td>Other-service</td>\n      <td>Unmarried</td>\n      <td>Black</td>\n      <td>Female</td>\n      <td>0</td>\n      <td>0</td>\n      <td>20</td>\n      <td>United-States</td>\n      <td>&lt;=50K</td>\n    </tr>\n    <tr>\n      <th>...</th>\n      <td>...</td>\n      <td>...</td>\n      <td>...</td>\n      <td>...</td>\n      <td>...</td>\n      <td>...</td>\n      <td>...</td>\n      <td>...</td>\n      <td>...</td>\n      <td>...</td>\n      <td>...</td>\n      <td>...</td>\n      <td>...</td>\n      <td>...</td>\n      <td>...</td>\n    </tr>\n    <tr>\n      <th>9039</th>\n      <td>22</td>\n      <td>Private</td>\n      <td>269623</td>\n      <td>Some-college</td>\n      <td>10</td>\n      <td>Never-married</td>\n      <td>Craft-repair</td>\n      <td>Own-child</td>\n      <td>White</td>\n      <td>Male</td>\n      <td>0</td>\n      <td>0</td>\n      <td>40</td>\n      <td>United-States</td>\n      <td>&lt;=50K</td>\n    </tr>\n    <tr>\n      <th>9040</th>\n      <td>55</td>\n      <td>Private</td>\n      <td>224655</td>\n      <td>HS-grad</td>\n      <td>9</td>\n      <td>Separated</td>\n      <td>Priv-house-serv</td>\n      <td>Not-in-family</td>\n      <td>White</td>\n      <td>Female</td>\n      <td>0</td>\n      <td>0</td>\n      <td>32</td>\n      <td>United-States</td>\n      <td>&lt;=50K</td>\n    </tr>\n    <tr>\n      <th>9041</th>\n      <td>61</td>\n      <td>Private</td>\n      <td>89686</td>\n      <td>HS-grad</td>\n      <td>9</td>\n      <td>Married-civ-spouse</td>\n      <td>Sales</td>\n      <td>Husband</td>\n      <td>White</td>\n      <td>Male</td>\n      <td>0</td>\n      <td>0</td>\n      <td>48</td>\n      <td>United-States</td>\n      <td>&lt;=50K</td>\n    </tr>\n    <tr>\n      <th>9042</th>\n      <td>44</td>\n      <td>Private</td>\n      <td>83891</td>\n      <td>Bachelors</td>\n      <td>13</td>\n      <td>Divorced</td>\n      <td>Adm-clerical</td>\n      <td>Own-child</td>\n      <td>Asian-Pac-Islander</td>\n      <td>Male</td>\n      <td>5455</td>\n      <td>0</td>\n      <td>40</td>\n      <td>United-States</td>\n      <td>&lt;=50K</td>\n    </tr>\n    <tr>\n      <th>9043</th>\n      <td>35</td>\n      <td>Self-emp-inc</td>\n      <td>182148</td>\n      <td>Bachelors</td>\n      <td>13</td>\n      <td>Married-civ-spouse</td>\n      <td>Exec-managerial</td>\n      <td>Husband</td>\n      <td>White</td>\n      <td>Male</td>\n      <td>0</td>\n      <td>0</td>\n      <td>60</td>\n      <td>United-States</td>\n      <td>&gt;50K</td>\n    </tr>\n  </tbody>\n</table>\n<p>9044 rows × 15 columns</p>\n</div>"
     },
     "execution_count": 4,
     "metadata": {},
     "output_type": "execute_result"
    }
   ],
   "source": [
    "test_dataset"
   ],
   "metadata": {
    "collapsed": false
   }
  },
  {
   "cell_type": "code",
   "execution_count": 3,
   "outputs": [],
   "source": [
    "def preprocess_data(dataset):\n",
    "    print(dataset)\n",
    "    dataset = dataset.drop(['workclass','fnlwgt','education','marital-status','occupation','relationship','native-country'],axis=1)\n",
    "    print(dataset.head)\n",
    "    dataset['sex'] = np.where(dataset['sex'] == ' Male', 1, 0)\n",
    "    dataset['race'] = np.where(dataset['race'] != ' White', 0, 1)\n",
    "    dataset['Probability'] = np.where(dataset['Probability'] == ' <=50K', 0, 1)\n",
    "    dataset['age'] = np.where(dataset['age'] >= 70, 70, dataset['age'])\n",
    "    dataset['age'] = np.where((dataset['age'] >= 60 ) & (dataset['age'] < 70), 60, dataset['age'])\n",
    "    dataset['age'] = np.where((dataset['age'] >= 50 ) & (dataset['age'] < 60), 50, dataset['age'])\n",
    "    dataset['age'] = np.where((dataset['age'] >= 40 ) & (dataset['age'] < 50), 40, dataset['age'])\n",
    "    dataset['age'] = np.where((dataset['age'] >= 30 ) & (dataset['age'] < 40), 30, dataset['age'])\n",
    "    dataset['age'] = np.where((dataset['age'] >= 20 ) & (dataset['age'] < 30), 20, dataset['age'])\n",
    "    dataset['age'] = np.where((dataset['age'] >= 10 ) & (dataset['age'] < 10), 10, dataset['age'])\n",
    "    dataset['age'] = np.where(dataset['age'] < 10, 0, dataset['age'])\n",
    "\n",
    "    return dataset"
   ],
   "metadata": {
    "collapsed": false
   }
  },
  {
   "cell_type": "code",
   "execution_count": 4,
   "outputs": [
    {
     "name": "stdout",
     "output_type": "stream",
     "text": [
      "       age          workclass  fnlwgt      education  education-num  \\\n",
      "0       52            Private  187938   Some-college             10   \n",
      "1       43            Private  169628      Bachelors             13   \n",
      "2       43   Self-emp-not-inc   89636      Bachelors             13   \n",
      "3       32            Private  123291           12th              8   \n",
      "4       32            Private   51150           12th              8   \n",
      "...    ...                ...     ...            ...            ...   \n",
      "36173   26            Private  177635           12th              8   \n",
      "36174   21            Private  293968   Some-college             10   \n",
      "36175   51          Local-gov  201040        Masters             14   \n",
      "36176   53            Private  226135            9th              5   \n",
      "36177   23            Private  315065           10th              6   \n",
      "\n",
      "               marital-status          occupation    relationship  \\\n",
      "0                    Divorced               Sales   Not-in-family   \n",
      "1               Never-married               Sales       Unmarried   \n",
      "2          Married-civ-spouse               Sales            Wife   \n",
      "3          Married-civ-spouse   Machine-op-inspct         Husband   \n",
      "4          Married-civ-spouse       Other-service            Wife   \n",
      "...                       ...                 ...             ...   \n",
      "36173   Married-spouse-absent    Transport-moving       Unmarried   \n",
      "36174   Married-spouse-absent               Sales       Own-child   \n",
      "36175      Married-civ-spouse      Prof-specialty         Husband   \n",
      "36176           Never-married        Craft-repair   Not-in-family   \n",
      "36177           Never-married       Other-service       Unmarried   \n",
      "\n",
      "                      race      sex  capital-gain  capital-loss  \\\n",
      "0                    White   Female             0             0   \n",
      "1                    Black   Female             0             0   \n",
      "2       Asian-Pac-Islander   Female             0             0   \n",
      "3                    White     Male             0             0   \n",
      "4                    White   Female             0             0   \n",
      "...                    ...      ...           ...           ...   \n",
      "36173                White     Male             0             0   \n",
      "36174                Black   Female             0             0   \n",
      "36175                White     Male             0             0   \n",
      "36176                Black     Male             0             0   \n",
      "36177                White     Male             0             0   \n",
      "\n",
      "       hours-per-week  native-country Probability  \n",
      "0                  49   United-States       <=50K  \n",
      "1                  35   United-States        >50K  \n",
      "2                  60           South       <=50K  \n",
      "3                  40   United-States       <=50K  \n",
      "4                  40   United-States       <=50K  \n",
      "...               ...             ...         ...  \n",
      "36173              40          Mexico       <=50K  \n",
      "36174              20   United-States       <=50K  \n",
      "36175              40          Mexico        >50K  \n",
      "36176              40         Jamaica       <=50K  \n",
      "36177              60          Mexico       <=50K  \n",
      "\n",
      "[36178 rows x 15 columns]\n",
      "<bound method NDFrame.head of        age  education-num                 race      sex  capital-gain  \\\n",
      "0       52             10                White   Female             0   \n",
      "1       43             13                Black   Female             0   \n",
      "2       43             13   Asian-Pac-Islander   Female             0   \n",
      "3       32              8                White     Male             0   \n",
      "4       32              8                White   Female             0   \n",
      "...    ...            ...                  ...      ...           ...   \n",
      "36173   26              8                White     Male             0   \n",
      "36174   21             10                Black   Female             0   \n",
      "36175   51             14                White     Male             0   \n",
      "36176   53              5                Black     Male             0   \n",
      "36177   23              6                White     Male             0   \n",
      "\n",
      "       capital-loss  hours-per-week Probability  \n",
      "0                 0              49       <=50K  \n",
      "1                 0              35        >50K  \n",
      "2                 0              60       <=50K  \n",
      "3                 0              40       <=50K  \n",
      "4                 0              40       <=50K  \n",
      "...             ...             ...         ...  \n",
      "36173             0              40       <=50K  \n",
      "36174             0              20       <=50K  \n",
      "36175             0              40        >50K  \n",
      "36176             0              40       <=50K  \n",
      "36177             0              60       <=50K  \n",
      "\n",
      "[36178 rows x 8 columns]>\n",
      "       age  education-num  race  sex  capital-gain  capital-loss  \\\n",
      "0       50             10     1    0             0             0   \n",
      "1       40             13     0    0             0             0   \n",
      "2       40             13     0    0             0             0   \n",
      "3       30              8     1    1             0             0   \n",
      "4       30              8     1    0             0             0   \n",
      "...    ...            ...   ...  ...           ...           ...   \n",
      "36173   20              8     1    1             0             0   \n",
      "36174   20             10     0    0             0             0   \n",
      "36175   50             14     1    1             0             0   \n",
      "36176   50              5     0    1             0             0   \n",
      "36177   20              6     1    1             0             0   \n",
      "\n",
      "       hours-per-week  Probability  \n",
      "0                  49            0  \n",
      "1                  35            1  \n",
      "2                  60            0  \n",
      "3                  40            0  \n",
      "4                  40            0  \n",
      "...               ...          ...  \n",
      "36173              40            0  \n",
      "36174              20            0  \n",
      "36175              40            1  \n",
      "36176              40            0  \n",
      "36177              60            0  \n",
      "\n",
      "[36178 rows x 8 columns]\n",
      "      age          workclass  fnlwgt      education  education-num  \\\n",
      "0      42            Private  159449      Bachelors             13   \n",
      "1      34            Private  245487        7th-8th              4   \n",
      "2      25   Self-emp-not-inc  176756        HS-grad              9   \n",
      "3      43   Self-emp-not-inc  292175        Masters             14   \n",
      "4      54            Private  302146        HS-grad              9   \n",
      "...   ...                ...     ...            ...            ...   \n",
      "9039   22            Private  269623   Some-college             10   \n",
      "9040   55            Private  224655        HS-grad              9   \n",
      "9041   61            Private   89686        HS-grad              9   \n",
      "9042   44            Private   83891      Bachelors             13   \n",
      "9043   35       Self-emp-inc  182148      Bachelors             13   \n",
      "\n",
      "           marital-status         occupation    relationship  \\\n",
      "0      Married-civ-spouse    Exec-managerial         Husband   \n",
      "1      Married-civ-spouse   Transport-moving         Husband   \n",
      "2           Never-married    Farming-fishing       Own-child   \n",
      "3                Divorced    Exec-managerial       Unmarried   \n",
      "4               Separated      Other-service       Unmarried   \n",
      "...                   ...                ...             ...   \n",
      "9039        Never-married       Craft-repair       Own-child   \n",
      "9040            Separated    Priv-house-serv   Not-in-family   \n",
      "9041   Married-civ-spouse              Sales         Husband   \n",
      "9042             Divorced       Adm-clerical       Own-child   \n",
      "9043   Married-civ-spouse    Exec-managerial         Husband   \n",
      "\n",
      "                     race      sex  capital-gain  capital-loss  \\\n",
      "0                   White     Male          5178             0   \n",
      "1      Amer-Indian-Eskimo     Male             0             0   \n",
      "2                   White     Male             0             0   \n",
      "3                   White   Female             0             0   \n",
      "4                   Black   Female             0             0   \n",
      "...                   ...      ...           ...           ...   \n",
      "9039                White     Male             0             0   \n",
      "9040                White   Female             0             0   \n",
      "9041                White     Male             0             0   \n",
      "9042   Asian-Pac-Islander     Male          5455             0   \n",
      "9043                White     Male             0             0   \n",
      "\n",
      "      hours-per-week  native-country Probability  \n",
      "0                 40   United-States        >50K  \n",
      "1                 45          Mexico       <=50K  \n",
      "2                 35   United-States       <=50K  \n",
      "3                 45   United-States        >50K  \n",
      "4                 20   United-States       <=50K  \n",
      "...              ...             ...         ...  \n",
      "9039              40   United-States       <=50K  \n",
      "9040              32   United-States       <=50K  \n",
      "9041              48   United-States       <=50K  \n",
      "9042              40   United-States       <=50K  \n",
      "9043              60   United-States        >50K  \n",
      "\n",
      "[9044 rows x 15 columns]\n",
      "<bound method NDFrame.head of       age  education-num                 race      sex  capital-gain  \\\n",
      "0      42             13                White     Male          5178   \n",
      "1      34              4   Amer-Indian-Eskimo     Male             0   \n",
      "2      25              9                White     Male             0   \n",
      "3      43             14                White   Female             0   \n",
      "4      54              9                Black   Female             0   \n",
      "...   ...            ...                  ...      ...           ...   \n",
      "9039   22             10                White     Male             0   \n",
      "9040   55              9                White   Female             0   \n",
      "9041   61              9                White     Male             0   \n",
      "9042   44             13   Asian-Pac-Islander     Male          5455   \n",
      "9043   35             13                White     Male             0   \n",
      "\n",
      "      capital-loss  hours-per-week Probability  \n",
      "0                0              40        >50K  \n",
      "1                0              45       <=50K  \n",
      "2                0              35       <=50K  \n",
      "3                0              45        >50K  \n",
      "4                0              20       <=50K  \n",
      "...            ...             ...         ...  \n",
      "9039             0              40       <=50K  \n",
      "9040             0              32       <=50K  \n",
      "9041             0              48       <=50K  \n",
      "9042             0              40       <=50K  \n",
      "9043             0              60        >50K  \n",
      "\n",
      "[9044 rows x 8 columns]>\n",
      "      age  education-num  race  sex  capital-gain  capital-loss  \\\n",
      "0      40             13     1    1          5178             0   \n",
      "1      30              4     0    1             0             0   \n",
      "2      20              9     1    1             0             0   \n",
      "3      40             14     1    0             0             0   \n",
      "4      50              9     0    0             0             0   \n",
      "...   ...            ...   ...  ...           ...           ...   \n",
      "9039   20             10     1    1             0             0   \n",
      "9040   50              9     1    0             0             0   \n",
      "9041   60              9     1    1             0             0   \n",
      "9042   40             13     0    1          5455             0   \n",
      "9043   30             13     1    1             0             0   \n",
      "\n",
      "      hours-per-week  Probability  \n",
      "0                 40            1  \n",
      "1                 45            0  \n",
      "2                 35            0  \n",
      "3                 45            1  \n",
      "4                 20            0  \n",
      "...              ...          ...  \n",
      "9039              40            0  \n",
      "9040              32            0  \n",
      "9041              48            0  \n",
      "9042              40            0  \n",
      "9043              60            1  \n",
      "\n",
      "[9044 rows x 8 columns]\n"
     ]
    }
   ],
   "source": [
    "train_dataset = preprocess_data(train_dataset)\n",
    "print(train_dataset)\n",
    "test_dataset = preprocess_data(test_dataset)\n",
    "print(test_dataset)"
   ],
   "metadata": {
    "collapsed": false
   }
  },
  {
   "cell_type": "code",
   "execution_count": 5,
   "outputs": [],
   "source": [
    "from sklearn.preprocessing import MinMaxScaler\n",
    "\n",
    "scaler = MinMaxScaler()\n",
    "scaler.fit(train_dataset)\n",
    "train_dataset = pd.DataFrame(scaler.transform(train_dataset), columns = train_dataset.columns)\n",
    "test_dataset = pd.DataFrame(scaler.transform(test_dataset), columns = train_dataset.columns)"
   ],
   "metadata": {
    "collapsed": false
   }
  },
  {
   "cell_type": "code",
   "execution_count": 6,
   "outputs": [],
   "source": [
    "x_train, y_train = train_dataset.loc[:, train_dataset.columns != 'Probability'], train_dataset['Probability']\n",
    "x_test, y_test = test_dataset.loc[:, test_dataset.columns != 'Probability'], test_dataset['Probability']"
   ],
   "metadata": {
    "collapsed": false
   }
  },
  {
   "cell_type": "code",
   "execution_count": 7,
   "outputs": [],
   "source": [
    "from sklearn.ensemble import RandomForestClassifier\n",
    "\n",
    "classifier = RandomForestClassifier(n_estimators=100)\n",
    "classifier.fit(x_train, y_train)\n",
    "\n",
    "y_pred = classifier.predict(x_test)"
   ],
   "metadata": {
    "collapsed": false
   }
  },
  {
   "cell_type": "code",
   "execution_count": 8,
   "outputs": [
    {
     "name": "stdout",
     "output_type": "stream",
     "text": [
      "Accuracy score: 0.8335913312693498\n"
     ]
    }
   ],
   "source": [
    "from sklearn.metrics import accuracy_score\n",
    "\n",
    "print(\"Accuracy score: {}\".format(accuracy_score(y_test, y_pred)))"
   ],
   "metadata": {
    "collapsed": false
   }
  },
  {
   "cell_type": "code",
   "execution_count": 9,
   "outputs": [
    {
     "name": "stdout",
     "output_type": "stream",
     "text": [
      "Accuracy score: 0.8218708536045998\n"
     ]
    }
   ],
   "source": [
    "from sklearn.linear_model import LogisticRegression\n",
    "\n",
    "logistic_classifier = LogisticRegression(C=1.0, penalty='l2', solver='liblinear', max_iter=100)\n",
    "logistic_classifier.fit(x_train, y_train)\n",
    "\n",
    "y_pred_logistic = logistic_classifier.predict(x_test)\n",
    "\n",
    "print(\"Accuracy score: {}\".format(accuracy_score(y_test, y_pred_logistic)))\n"
   ],
   "metadata": {
    "collapsed": false
   }
  },
  {
   "cell_type": "code",
   "execution_count": 10,
   "outputs": [
    {
     "name": "stdout",
     "output_type": "stream",
     "text": [
      "Accuracy score: 0.8297213622291022\n"
     ]
    }
   ],
   "source": [
    "from sklearn.svm import SVC\n",
    "\n",
    "svm = SVC()\n",
    "svm.fit(x_train, y_train)\n",
    "y_pred_svm = svm.predict(x_test)\n",
    "print(\"Accuracy score: {}\".format(accuracy_score(y_test, y_pred_svm)))"
   ],
   "metadata": {
    "collapsed": false
   }
  },
  {
   "cell_type": "code",
   "execution_count": 11,
   "outputs": [
    {
     "name": "stdout",
     "output_type": "stream",
     "text": [
      "[[6397  448]\n",
      " [1057 1142]]\n",
      "[[6500  345]\n",
      " [1266  933]]\n",
      "[[6557  288]\n",
      " [1252  947]]\n"
     ]
    }
   ],
   "source": [
    "from sklearn.metrics import confusion_matrix\n",
    "\n",
    "\n",
    "\n",
    "print(confusion_matrix(y_test, y_pred))\n",
    "print(confusion_matrix(y_test, y_pred_logistic))\n",
    "print(confusion_matrix(y_test, y_pred_svm))"
   ],
   "metadata": {
    "collapsed": false
   }
  },
  {
   "cell_type": "code",
   "execution_count": 13,
   "outputs": [
    {
     "name": "stdout",
     "output_type": "stream",
     "text": [
      "              precision    recall  f1-score   support\n",
      "\n",
      "       <=50k       0.86      0.94      0.90      6845\n",
      "        >50k       0.73      0.51      0.60      2199\n",
      "\n",
      "    accuracy                           0.83      9044\n",
      "   macro avg       0.79      0.73      0.75      9044\n",
      "weighted avg       0.82      0.83      0.82      9044\n",
      "\n",
      "              precision    recall  f1-score   support\n",
      "\n",
      "       <=50k       0.84      0.95      0.89      6845\n",
      "        >50k       0.73      0.42      0.54      2199\n",
      "\n",
      "    accuracy                           0.82      9044\n",
      "   macro avg       0.78      0.69      0.71      9044\n",
      "weighted avg       0.81      0.82      0.80      9044\n",
      "\n"
     ]
    }
   ],
   "source": [
    "from sklearn.metrics import classification_report\n",
    "\n",
    "print(classification_report(y_test, y_pred, target_names=['<=50k', '>50k']))\n",
    "print(classification_report(y_test, y_pred_logistic, target_names=['<=50k', '>50k']))"
   ],
   "metadata": {
    "collapsed": false
   }
  },
  {
   "cell_type": "code",
   "execution_count": 12,
   "outputs": [
    {
     "name": "stderr",
     "output_type": "stream",
     "text": [
      "/home/rohamkoohestani/anaconda3/lib/python3.9/site-packages/sklearn/utils/deprecation.py:87: FutureWarning: Function plot_roc_curve is deprecated; Function :func:`plot_roc_curve` is deprecated in 1.0 and will be removed in 1.2. Use one of the class methods: :meth:`sklearn.metric.RocCurveDisplay.from_predictions` or :meth:`sklearn.metric.RocCurveDisplay.from_estimator`.\n",
      "  warnings.warn(msg, category=FutureWarning)\n",
      "/home/rohamkoohestani/anaconda3/lib/python3.9/site-packages/sklearn/utils/deprecation.py:87: FutureWarning: Function plot_roc_curve is deprecated; Function :func:`plot_roc_curve` is deprecated in 1.0 and will be removed in 1.2. Use one of the class methods: :meth:`sklearn.metric.RocCurveDisplay.from_predictions` or :meth:`sklearn.metric.RocCurveDisplay.from_estimator`.\n",
      "  warnings.warn(msg, category=FutureWarning)\n",
      "/home/rohamkoohestani/anaconda3/lib/python3.9/site-packages/sklearn/utils/deprecation.py:87: FutureWarning: Function plot_roc_curve is deprecated; Function :func:`plot_roc_curve` is deprecated in 1.0 and will be removed in 1.2. Use one of the class methods: :meth:`sklearn.metric.RocCurveDisplay.from_predictions` or :meth:`sklearn.metric.RocCurveDisplay.from_estimator`.\n",
      "  warnings.warn(msg, category=FutureWarning)\n"
     ]
    },
    {
     "data": {
      "text/plain": "<sklearn.metrics._plot.roc_curve.RocCurveDisplay at 0x7f4dc2ab58b0>"
     },
     "execution_count": 12,
     "metadata": {},
     "output_type": "execute_result"
    },
    {
     "data": {
      "text/plain": "<Figure size 432x288 with 1 Axes>",
      "image/png": "[encoded data removed]"
     },
     "metadata": {
      "needs_background": "light"
     },
     "output_type": "display_data"
    },
    {
     "data": {
      "text/plain": "<Figure size 432x288 with 1 Axes>",
      "image/png": "[encoded data removed]"
     },
     "metadata": {
      "needs_background": "light"
     },
     "output_type": "display_data"
    },
    {
     "data": {
      "text/plain": "<Figure size 432x288 with 1 Axes>",
      "image/png": "[encoded data removed]"
     },
     "metadata": {
      "needs_background": "light"
     },
     "output_type": "display_data"
    }
   ],
   "source": [
    "from sklearn.metrics import plot_roc_curve\n",
    "\n",
    "plot_roc_curve(classifier, x_test, y_test)\n",
    "plot_roc_curve(logistic_classifier, x_test, y_test)\n",
    "plot_roc_curve(svm, x_test, y_test)"
   ],
   "metadata": {
    "collapsed": false
   }
  },
  {
   "cell_type": "code",
   "execution_count": 13,
   "outputs": [
    {
     "name": "stdout",
     "output_type": "stream",
     "text": [
      "\n",
      "\n",
      "\n",
      "metrics for random forest classifier:\n",
      "recall : 0.51\n",
      "far : 0.07\n",
      "precision : 0.72\n",
      "accuracy : 0.83\n",
      "F1 Score : 0.6\n",
      "aod :sex 0.08\n",
      "eod :sex 0.2\n",
      "SPD: 0.18\n",
      "DI: 0.77\n",
      "-------------\n",
      "recall : 0.52\n",
      "far : 0.06\n",
      "precision : 0.72\n",
      "accuracy : 0.83\n",
      "F1 Score : 0.6\n",
      "aod :race 0.02\n",
      "eod :race 0.09\n",
      "SPD: 0.09\n",
      "DI: 0.53\n",
      "\n",
      "\n",
      "\n",
      "metrics for Logistic regression:\n",
      "recall : 0.42\n",
      "far : 0.05\n",
      "precision : 0.73\n",
      "accuracy : 0.82\n",
      "F1 Score : 0.53\n",
      "aod :sex 0.09\n",
      "eod :sex 0.25\n",
      "SPD: 0.16\n",
      "DI: 0.84\n",
      "-------------\n",
      "recall : 0.42\n",
      "far : 0.05\n",
      "precision : 0.73\n",
      "accuracy : 0.82\n",
      "F1 Score : 0.53\n",
      "aod :race 0.07\n",
      "eod :race 0.18\n",
      "SPD: 0.1\n",
      "DI: 0.64\n",
      "\n",
      "\n",
      "\n",
      "metrics for SVM:\n",
      "recall : 0.43\n",
      "far : 0.04\n",
      "precision : 0.77\n",
      "accuracy : 0.83\n",
      "F1 Score : 0.55\n",
      "aod :sex 0.11\n",
      "eod :sex 0.28\n",
      "SPD: 0.17\n",
      "DI: 0.89\n",
      "-------------\n",
      "recall : 0.43\n",
      "far : 0.04\n",
      "precision : 0.77\n",
      "accuracy : 0.83\n",
      "F1 Score : 0.55\n",
      "aod :race 0.08\n",
      "eod :race 0.2\n",
      "SPD: 0.1\n",
      "DI: 0.68\n"
     ]
    }
   ],
   "source": [
    "from Metrics import *\n",
    "\n",
    "protected_attributes = ('sex', 'race')\n",
    "\n",
    "def get_allround_metrics(test_dataset, classifier, x_train, y_train, x_test, y_test, protected_attributes):\n",
    "\n",
    "    print(\"recall :\", measure_final_score(test_dataset, classifier, x_train, y_train, x_test, y_test, protected_attributes[0], 'recall'))\n",
    "    print(\"far :\",measure_final_score(test_dataset, classifier, x_train, y_train, x_test, y_test, protected_attributes[0], 'far'))\n",
    "    print(\"precision :\", measure_final_score(test_dataset, classifier, x_train, y_train, x_test, y_test, protected_attributes[0], 'precision'))\n",
    "    print(\"accuracy :\",measure_final_score(test_dataset, classifier, x_train, y_train, x_test, y_test, protected_attributes[0], 'accuracy'))\n",
    "    print(\"F1 Score :\",measure_final_score(test_dataset, classifier, x_train, y_train, x_test, y_test, protected_attributes[0], 'F1'))\n",
    "    print(\"aod :\"+protected_attributes[0],measure_final_score(test_dataset, classifier, x_train, y_train, x_test, y_test, protected_attributes[0], 'aod'))\n",
    "    print(\"eod :\"+protected_attributes[0],measure_final_score(test_dataset, classifier, x_train, y_train, x_test, y_test, protected_attributes[0], 'eod'))\n",
    "\n",
    "    print(\"SPD:\",measure_final_score(test_dataset, classifier, x_train, y_train, x_test, y_test, protected_attributes[0], 'SPD'))\n",
    "    print(\"DI:\",measure_final_score(test_dataset, classifier, x_train, y_train, x_test, y_test, protected_attributes[0], 'DI'))\n",
    "\n",
    "    print(\"-------------\")\n",
    "\n",
    "    print(\"recall :\", measure_final_score(test_dataset, classifier, x_train, y_train, x_test, y_test, protected_attributes[1], 'recall'))\n",
    "    print(\"far :\",measure_final_score(test_dataset, classifier, x_train, y_train, x_test, y_test, protected_attributes[1], 'far'))\n",
    "    print(\"precision :\", measure_final_score(test_dataset, classifier, x_train, y_train, x_test, y_test, protected_attributes[1], 'precision'))\n",
    "    print(\"accuracy :\",measure_final_score(test_dataset, classifier, x_train, y_train, x_test, y_test, protected_attributes[1], 'accuracy'))\n",
    "    print(\"F1 Score :\",measure_final_score(test_dataset, classifier, x_train, y_train, x_test, y_test, protected_attributes[1], 'F1'))\n",
    "    print(\"aod :\"+protected_attributes[1],measure_final_score(test_dataset, classifier, x_train, y_train, x_test, y_test, protected_attributes[1], 'aod'))\n",
    "    print(\"eod :\"+protected_attributes[1],measure_final_score(test_dataset, classifier, x_train, y_train, x_test, y_test, protected_attributes[1], 'eod'))\n",
    "\n",
    "    print(\"SPD:\",measure_final_score(test_dataset, classifier, x_train, y_train, x_test, y_test, protected_attributes[1], 'SPD'))\n",
    "    print(\"DI:\",measure_final_score(test_dataset, classifier, x_train, y_train, x_test, y_test, protected_attributes[1], 'DI'))\n",
    "\n",
    "print(\"\\n\\n\\nmetrics for random forest classifier:\")\n",
    "get_allround_metrics(test_dataset, classifier, x_train, y_train, x_test, y_test, protected_attributes)\n",
    "\n",
    "print(\"\\n\\n\\nmetrics for Logistic regression:\")\n",
    "get_allround_metrics(test_dataset, logistic_classifier, x_train, y_train, x_test, y_test, protected_attributes)\n",
    "\n",
    "print(\"\\n\\n\\nmetrics for SVM:\")\n",
    "get_allround_metrics(test_dataset, svm, x_train, y_train, x_test, y_test, protected_attributes)\n",
    "\n"
   ],
   "metadata": {
    "collapsed": false
   }
  }
 ],
 "metadata": {
  "kernelspec": {
   "display_name": "Python 3",
   "language": "python",
   "name": "python3"
  },
  "language_info": {
   "codemirror_mode": {
    "name": "ipython",
    "version": 2
   },
   "file_extension": ".py",
   "mimetype": "text/x-python",
   "name": "python",
   "nbconvert_exporter": "python",
   "pygments_lexer": "ipython2",
   "version": "2.7.6"
  }
 },
 "nbformat": 4,
 "nbformat_minor": 0
}
