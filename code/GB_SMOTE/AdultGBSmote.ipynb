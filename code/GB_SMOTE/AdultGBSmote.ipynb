{
 "cells": [
  {
   "cell_type": "code",
   "execution_count": 1,
   "metadata": {
    "collapsed": true
   },
   "outputs": [],
   "source": [
    "import os.path\n",
    "\n",
    "import pandas as pd\n",
    "import numpy as np\n",
    "from sklearn import preprocessing"
   ]
  },
  {
   "cell_type": "code",
   "execution_count": 2,
   "outputs": [],
   "source": [
    "train_dataset = pd.read_csv('../../data/processed/trainData.csv')\n",
    "test_dataset = pd.read_csv('../../data/processed/trainData.csv')\n",
    "synthetic_dataset = pd.read_csv('../../data/synthetic/SyntheticData.csv')"
   ],
   "metadata": {
    "collapsed": false
   }
  },
  {
   "cell_type": "code",
   "execution_count": 3,
   "outputs": [],
   "source": [
    "def preprocess_data(dataset):\n",
    "    print(dataset)\n",
    "    dataset = dataset.drop(['workclass','fnlwgt','education','marital-status','occupation','relationship','native-country'],axis=1)\n",
    "    print(dataset.head)\n",
    "    dataset['sex'] = np.where(dataset['sex'] == ' Male', 1, 0)\n",
    "    dataset['race'] = np.where(dataset['race'] != ' White', 0, 1)\n",
    "    dataset['Probability'] = np.where(dataset['Probability'] == ' <=50K', 0, 1)\n",
    "    dataset['age'] = np.where(dataset['age'] >= 70, 70, dataset['age'])\n",
    "    dataset['age'] = np.where((dataset['age'] >= 60 ) & (dataset['age'] < 70), 60, dataset['age'])\n",
    "    dataset['age'] = np.where((dataset['age'] >= 50 ) & (dataset['age'] < 60), 50, dataset['age'])\n",
    "    dataset['age'] = np.where((dataset['age'] >= 40 ) & (dataset['age'] < 50), 40, dataset['age'])\n",
    "    dataset['age'] = np.where((dataset['age'] >= 30 ) & (dataset['age'] < 40), 30, dataset['age'])\n",
    "    dataset['age'] = np.where((dataset['age'] >= 20 ) & (dataset['age'] < 30), 20, dataset['age'])\n",
    "    dataset['age'] = np.where((dataset['age'] >= 10 ) & (dataset['age'] < 10), 10, dataset['age'])\n",
    "    dataset['age'] = np.where(dataset['age'] < 10, 0, dataset['age'])\n",
    "\n",
    "    return dataset"
   ],
   "metadata": {
    "collapsed": false
   }
  },
  {
   "cell_type": "code",
   "execution_count": 4,
   "outputs": [
    {
     "name": "stdout",
     "output_type": "stream",
     "text": [
      "        age          workclass  fnlwgt   education  education-num  \\\n",
      "0        42            Private  285787     HS-grad              9   \n",
      "1        27            Private  103634     HS-grad              9   \n",
      "2        22            Private  200593     HS-grad              9   \n",
      "3        48   Self-emp-not-inc  246891     HS-grad              9   \n",
      "4        36            Private  325374     HS-grad              9   \n",
      "...     ...                ...     ...         ...            ...   \n",
      "999995   40            Private  291300   Assoc-voc             11   \n",
      "999996   45          Local-gov  334039   Bachelors             13   \n",
      "999997   68   Self-emp-not-inc  195881   Bachelors             13   \n",
      "999998   61        Federal-gov  161926        10th              6   \n",
      "999999   45            Private  114459     HS-grad              9   \n",
      "\n",
      "             marital-status          occupation    relationship  \\\n",
      "0             Never-married     Exec-managerial       Unmarried   \n",
      "1             Never-married   Machine-op-inspct       Own-child   \n",
      "2             Never-married        Adm-clerical   Not-in-family   \n",
      "3        Married-civ-spouse      Prof-specialty         Husband   \n",
      "4        Married-civ-spouse               Sales         Husband   \n",
      "...                     ...                 ...             ...   \n",
      "999995             Divorced      Prof-specialty   Not-in-family   \n",
      "999996   Married-civ-spouse      Prof-specialty         Husband   \n",
      "999997   Married-civ-spouse      Prof-specialty         Husband   \n",
      "999998            Separated       Other-service   Not-in-family   \n",
      "999999   Married-civ-spouse        Craft-repair         Husband   \n",
      "\n",
      "                       race      sex  capital-gain  capital-loss  \\\n",
      "0                     Black     Male             0             0   \n",
      "1                     White     Male             0             0   \n",
      "2                     White   Female             0             0   \n",
      "3                     White     Male             0             0   \n",
      "4                     White     Male             0             0   \n",
      "...                     ...      ...           ...           ...   \n",
      "999995                White   Female             0             0   \n",
      "999996                White     Male             0             0   \n",
      "999997                White     Male             0             0   \n",
      "999998                Black   Female             0             0   \n",
      "999999   Asian-Pac-Islander     Male             0             0   \n",
      "\n",
      "        hours-per-week  native-country Probability  \n",
      "0                   40   United-States       <=50K  \n",
      "1                   30   United-States       <=50K  \n",
      "2                   30   United-States       <=50K  \n",
      "3                    3   United-States       <=50K  \n",
      "4                   40   United-States       <=50K  \n",
      "...                ...             ...         ...  \n",
      "999995              40   United-States       <=50K  \n",
      "999996              50   United-States       <=50K  \n",
      "999997              20   United-States       <=50K  \n",
      "999998              37   United-States        >50K  \n",
      "999999              42           China       <=50K  \n",
      "\n",
      "[1000000 rows x 15 columns]\n"
     ]
    }
   ],
   "source": [
    "print(synthetic_dataset)"
   ],
   "metadata": {
    "collapsed": false
   }
  },
  {
   "cell_type": "code",
   "execution_count": 5,
   "outputs": [
    {
     "name": "stdout",
     "output_type": "stream",
     "text": [
      "       age          workclass  fnlwgt      education  education-num  \\\n",
      "0       52            Private  187938   Some-college             10   \n",
      "1       43            Private  169628      Bachelors             13   \n",
      "2       43   Self-emp-not-inc   89636      Bachelors             13   \n",
      "3       32            Private  123291           12th              8   \n",
      "4       32            Private   51150           12th              8   \n",
      "...    ...                ...     ...            ...            ...   \n",
      "36173   26            Private  177635           12th              8   \n",
      "36174   21            Private  293968   Some-college             10   \n",
      "36175   51          Local-gov  201040        Masters             14   \n",
      "36176   53            Private  226135            9th              5   \n",
      "36177   23            Private  315065           10th              6   \n",
      "\n",
      "               marital-status          occupation    relationship  \\\n",
      "0                    Divorced               Sales   Not-in-family   \n",
      "1               Never-married               Sales       Unmarried   \n",
      "2          Married-civ-spouse               Sales            Wife   \n",
      "3          Married-civ-spouse   Machine-op-inspct         Husband   \n",
      "4          Married-civ-spouse       Other-service            Wife   \n",
      "...                       ...                 ...             ...   \n",
      "36173   Married-spouse-absent    Transport-moving       Unmarried   \n",
      "36174   Married-spouse-absent               Sales       Own-child   \n",
      "36175      Married-civ-spouse      Prof-specialty         Husband   \n",
      "36176           Never-married        Craft-repair   Not-in-family   \n",
      "36177           Never-married       Other-service       Unmarried   \n",
      "\n",
      "                      race      sex  capital-gain  capital-loss  \\\n",
      "0                    White   Female             0             0   \n",
      "1                    Black   Female             0             0   \n",
      "2       Asian-Pac-Islander   Female             0             0   \n",
      "3                    White     Male             0             0   \n",
      "4                    White   Female             0             0   \n",
      "...                    ...      ...           ...           ...   \n",
      "36173                White     Male             0             0   \n",
      "36174                Black   Female             0             0   \n",
      "36175                White     Male             0             0   \n",
      "36176                Black     Male             0             0   \n",
      "36177                White     Male             0             0   \n",
      "\n",
      "       hours-per-week  native-country Probability  \n",
      "0                  49   United-States       <=50K  \n",
      "1                  35   United-States        >50K  \n",
      "2                  60           South       <=50K  \n",
      "3                  40   United-States       <=50K  \n",
      "4                  40   United-States       <=50K  \n",
      "...               ...             ...         ...  \n",
      "36173              40          Mexico       <=50K  \n",
      "36174              20   United-States       <=50K  \n",
      "36175              40          Mexico        >50K  \n",
      "36176              40         Jamaica       <=50K  \n",
      "36177              60          Mexico       <=50K  \n",
      "\n",
      "[36178 rows x 15 columns]\n",
      "<bound method NDFrame.head of        age  education-num                 race      sex  capital-gain  \\\n",
      "0       52             10                White   Female             0   \n",
      "1       43             13                Black   Female             0   \n",
      "2       43             13   Asian-Pac-Islander   Female             0   \n",
      "3       32              8                White     Male             0   \n",
      "4       32              8                White   Female             0   \n",
      "...    ...            ...                  ...      ...           ...   \n",
      "36173   26              8                White     Male             0   \n",
      "36174   21             10                Black   Female             0   \n",
      "36175   51             14                White     Male             0   \n",
      "36176   53              5                Black     Male             0   \n",
      "36177   23              6                White     Male             0   \n",
      "\n",
      "       capital-loss  hours-per-week Probability  \n",
      "0                 0              49       <=50K  \n",
      "1                 0              35        >50K  \n",
      "2                 0              60       <=50K  \n",
      "3                 0              40       <=50K  \n",
      "4                 0              40       <=50K  \n",
      "...             ...             ...         ...  \n",
      "36173             0              40       <=50K  \n",
      "36174             0              20       <=50K  \n",
      "36175             0              40        >50K  \n",
      "36176             0              40       <=50K  \n",
      "36177             0              60       <=50K  \n",
      "\n",
      "[36178 rows x 8 columns]>\n",
      "       age  education-num  race  sex  capital-gain  capital-loss  \\\n",
      "0       50             10     1    0             0             0   \n",
      "1       40             13     0    0             0             0   \n",
      "2       40             13     0    0             0             0   \n",
      "3       30              8     1    1             0             0   \n",
      "4       30              8     1    0             0             0   \n",
      "...    ...            ...   ...  ...           ...           ...   \n",
      "36173   20              8     1    1             0             0   \n",
      "36174   20             10     0    0             0             0   \n",
      "36175   50             14     1    1             0             0   \n",
      "36176   50              5     0    1             0             0   \n",
      "36177   20              6     1    1             0             0   \n",
      "\n",
      "       hours-per-week  Probability  \n",
      "0                  49            0  \n",
      "1                  35            1  \n",
      "2                  60            0  \n",
      "3                  40            0  \n",
      "4                  40            0  \n",
      "...               ...          ...  \n",
      "36173              40            0  \n",
      "36174              20            0  \n",
      "36175              40            1  \n",
      "36176              40            0  \n",
      "36177              60            0  \n",
      "\n",
      "[36178 rows x 8 columns]\n",
      "       age          workclass  fnlwgt      education  education-num  \\\n",
      "0       52            Private  187938   Some-college             10   \n",
      "1       43            Private  169628      Bachelors             13   \n",
      "2       43   Self-emp-not-inc   89636      Bachelors             13   \n",
      "3       32            Private  123291           12th              8   \n",
      "4       32            Private   51150           12th              8   \n",
      "...    ...                ...     ...            ...            ...   \n",
      "36173   26            Private  177635           12th              8   \n",
      "36174   21            Private  293968   Some-college             10   \n",
      "36175   51          Local-gov  201040        Masters             14   \n",
      "36176   53            Private  226135            9th              5   \n",
      "36177   23            Private  315065           10th              6   \n",
      "\n",
      "               marital-status          occupation    relationship  \\\n",
      "0                    Divorced               Sales   Not-in-family   \n",
      "1               Never-married               Sales       Unmarried   \n",
      "2          Married-civ-spouse               Sales            Wife   \n",
      "3          Married-civ-spouse   Machine-op-inspct         Husband   \n",
      "4          Married-civ-spouse       Other-service            Wife   \n",
      "...                       ...                 ...             ...   \n",
      "36173   Married-spouse-absent    Transport-moving       Unmarried   \n",
      "36174   Married-spouse-absent               Sales       Own-child   \n",
      "36175      Married-civ-spouse      Prof-specialty         Husband   \n",
      "36176           Never-married        Craft-repair   Not-in-family   \n",
      "36177           Never-married       Other-service       Unmarried   \n",
      "\n",
      "                      race      sex  capital-gain  capital-loss  \\\n",
      "0                    White   Female             0             0   \n",
      "1                    Black   Female             0             0   \n",
      "2       Asian-Pac-Islander   Female             0             0   \n",
      "3                    White     Male             0             0   \n",
      "4                    White   Female             0             0   \n",
      "...                    ...      ...           ...           ...   \n",
      "36173                White     Male             0             0   \n",
      "36174                Black   Female             0             0   \n",
      "36175                White     Male             0             0   \n",
      "36176                Black     Male             0             0   \n",
      "36177                White     Male             0             0   \n",
      "\n",
      "       hours-per-week  native-country Probability  \n",
      "0                  49   United-States       <=50K  \n",
      "1                  35   United-States        >50K  \n",
      "2                  60           South       <=50K  \n",
      "3                  40   United-States       <=50K  \n",
      "4                  40   United-States       <=50K  \n",
      "...               ...             ...         ...  \n",
      "36173              40          Mexico       <=50K  \n",
      "36174              20   United-States       <=50K  \n",
      "36175              40          Mexico        >50K  \n",
      "36176              40         Jamaica       <=50K  \n",
      "36177              60          Mexico       <=50K  \n",
      "\n",
      "[36178 rows x 15 columns]\n",
      "<bound method NDFrame.head of        age  education-num                 race      sex  capital-gain  \\\n",
      "0       52             10                White   Female             0   \n",
      "1       43             13                Black   Female             0   \n",
      "2       43             13   Asian-Pac-Islander   Female             0   \n",
      "3       32              8                White     Male             0   \n",
      "4       32              8                White   Female             0   \n",
      "...    ...            ...                  ...      ...           ...   \n",
      "36173   26              8                White     Male             0   \n",
      "36174   21             10                Black   Female             0   \n",
      "36175   51             14                White     Male             0   \n",
      "36176   53              5                Black     Male             0   \n",
      "36177   23              6                White     Male             0   \n",
      "\n",
      "       capital-loss  hours-per-week Probability  \n",
      "0                 0              49       <=50K  \n",
      "1                 0              35        >50K  \n",
      "2                 0              60       <=50K  \n",
      "3                 0              40       <=50K  \n",
      "4                 0              40       <=50K  \n",
      "...             ...             ...         ...  \n",
      "36173             0              40       <=50K  \n",
      "36174             0              20       <=50K  \n",
      "36175             0              40        >50K  \n",
      "36176             0              40       <=50K  \n",
      "36177             0              60       <=50K  \n",
      "\n",
      "[36178 rows x 8 columns]>\n",
      "       age  education-num  race  sex  capital-gain  capital-loss  \\\n",
      "0       50             10     1    0             0             0   \n",
      "1       40             13     0    0             0             0   \n",
      "2       40             13     0    0             0             0   \n",
      "3       30              8     1    1             0             0   \n",
      "4       30              8     1    0             0             0   \n",
      "...    ...            ...   ...  ...           ...           ...   \n",
      "36173   20              8     1    1             0             0   \n",
      "36174   20             10     0    0             0             0   \n",
      "36175   50             14     1    1             0             0   \n",
      "36176   50              5     0    1             0             0   \n",
      "36177   20              6     1    1             0             0   \n",
      "\n",
      "       hours-per-week  Probability  \n",
      "0                  49            0  \n",
      "1                  35            1  \n",
      "2                  60            0  \n",
      "3                  40            0  \n",
      "4                  40            0  \n",
      "...               ...          ...  \n",
      "36173              40            0  \n",
      "36174              20            0  \n",
      "36175              40            1  \n",
      "36176              40            0  \n",
      "36177              60            0  \n",
      "\n",
      "[36178 rows x 8 columns]\n",
      "        age          workclass  fnlwgt   education  education-num  \\\n",
      "0        42            Private  285787     HS-grad              9   \n",
      "1        27            Private  103634     HS-grad              9   \n",
      "2        22            Private  200593     HS-grad              9   \n",
      "3        48   Self-emp-not-inc  246891     HS-grad              9   \n",
      "4        36            Private  325374     HS-grad              9   \n",
      "...     ...                ...     ...         ...            ...   \n",
      "999995   40            Private  291300   Assoc-voc             11   \n",
      "999996   45          Local-gov  334039   Bachelors             13   \n",
      "999997   68   Self-emp-not-inc  195881   Bachelors             13   \n",
      "999998   61        Federal-gov  161926        10th              6   \n",
      "999999   45            Private  114459     HS-grad              9   \n",
      "\n",
      "             marital-status          occupation    relationship  \\\n",
      "0             Never-married     Exec-managerial       Unmarried   \n",
      "1             Never-married   Machine-op-inspct       Own-child   \n",
      "2             Never-married        Adm-clerical   Not-in-family   \n",
      "3        Married-civ-spouse      Prof-specialty         Husband   \n",
      "4        Married-civ-spouse               Sales         Husband   \n",
      "...                     ...                 ...             ...   \n",
      "999995             Divorced      Prof-specialty   Not-in-family   \n",
      "999996   Married-civ-spouse      Prof-specialty         Husband   \n",
      "999997   Married-civ-spouse      Prof-specialty         Husband   \n",
      "999998            Separated       Other-service   Not-in-family   \n",
      "999999   Married-civ-spouse        Craft-repair         Husband   \n",
      "\n",
      "                       race      sex  capital-gain  capital-loss  \\\n",
      "0                     Black     Male             0             0   \n",
      "1                     White     Male             0             0   \n",
      "2                     White   Female             0             0   \n",
      "3                     White     Male             0             0   \n",
      "4                     White     Male             0             0   \n",
      "...                     ...      ...           ...           ...   \n",
      "999995                White   Female             0             0   \n",
      "999996                White     Male             0             0   \n",
      "999997                White     Male             0             0   \n",
      "999998                Black   Female             0             0   \n",
      "999999   Asian-Pac-Islander     Male             0             0   \n",
      "\n",
      "        hours-per-week  native-country Probability  \n",
      "0                   40   United-States       <=50K  \n",
      "1                   30   United-States       <=50K  \n",
      "2                   30   United-States       <=50K  \n",
      "3                    3   United-States       <=50K  \n",
      "4                   40   United-States       <=50K  \n",
      "...                ...             ...         ...  \n",
      "999995              40   United-States       <=50K  \n",
      "999996              50   United-States       <=50K  \n",
      "999997              20   United-States       <=50K  \n",
      "999998              37   United-States        >50K  \n",
      "999999              42           China       <=50K  \n",
      "\n",
      "[1000000 rows x 15 columns]\n",
      "<bound method NDFrame.head of         age  education-num                 race      sex  capital-gain  \\\n",
      "0        42              9                Black     Male             0   \n",
      "1        27              9                White     Male             0   \n",
      "2        22              9                White   Female             0   \n",
      "3        48              9                White     Male             0   \n",
      "4        36              9                White     Male             0   \n",
      "...     ...            ...                  ...      ...           ...   \n",
      "999995   40             11                White   Female             0   \n",
      "999996   45             13                White     Male             0   \n",
      "999997   68             13                White     Male             0   \n",
      "999998   61              6                Black   Female             0   \n",
      "999999   45              9   Asian-Pac-Islander     Male             0   \n",
      "\n",
      "        capital-loss  hours-per-week Probability  \n",
      "0                  0              40       <=50K  \n",
      "1                  0              30       <=50K  \n",
      "2                  0              30       <=50K  \n",
      "3                  0               3       <=50K  \n",
      "4                  0              40       <=50K  \n",
      "...              ...             ...         ...  \n",
      "999995             0              40       <=50K  \n",
      "999996             0              50       <=50K  \n",
      "999997             0              20       <=50K  \n",
      "999998             0              37        >50K  \n",
      "999999             0              42       <=50K  \n",
      "\n",
      "[1000000 rows x 8 columns]>\n",
      "        age  education-num  race  sex  capital-gain  capital-loss  \\\n",
      "0        40              9     0    1             0             0   \n",
      "1        20              9     1    1             0             0   \n",
      "2        20              9     1    0             0             0   \n",
      "3        40              9     1    1             0             0   \n",
      "4        30              9     1    1             0             0   \n",
      "...     ...            ...   ...  ...           ...           ...   \n",
      "999995   40             11     1    0             0             0   \n",
      "999996   40             13     1    1             0             0   \n",
      "999997   60             13     1    1             0             0   \n",
      "999998   60              6     0    0             0             0   \n",
      "999999   40              9     0    1             0             0   \n",
      "\n",
      "        hours-per-week  Probability  \n",
      "0                   40            0  \n",
      "1                   30            0  \n",
      "2                   30            0  \n",
      "3                    3            0  \n",
      "4                   40            0  \n",
      "...                ...          ...  \n",
      "999995              40            0  \n",
      "999996              50            0  \n",
      "999997              20            0  \n",
      "999998              37            1  \n",
      "999999              42            0  \n",
      "\n",
      "[1000000 rows x 8 columns]\n"
     ]
    }
   ],
   "source": [
    "train_dataset = preprocess_data(train_dataset)\n",
    "print(train_dataset)\n",
    "test_dataset = preprocess_data(test_dataset)\n",
    "print(test_dataset)\n",
    "synthetic_dataset = preprocess_data(synthetic_dataset)\n",
    "print(synthetic_dataset)"
   ],
   "metadata": {
    "collapsed": false
   }
  },
  {
   "cell_type": "code",
   "execution_count": 6,
   "outputs": [],
   "source": [
    "from sklearn.preprocessing import MinMaxScaler\n",
    "\n",
    "complete_dataset = pd.concat([train_dataset, synthetic_dataset])\n",
    "\n",
    "scaler = MinMaxScaler()\n",
    "scaler.fit(complete_dataset)\n",
    "train_dataset = pd.DataFrame(scaler.transform(complete_dataset), columns = train_dataset.columns)\n",
    "test_dataset = pd.DataFrame(scaler.transform(test_dataset), columns = train_dataset.columns)"
   ],
   "metadata": {
    "collapsed": false
   }
  },
  {
   "cell_type": "code",
   "execution_count": 6,
   "outputs": [],
   "source": [],
   "metadata": {
    "collapsed": false
   }
  },
  {
   "cell_type": "markdown",
   "source": [
    "## using FairSmote to generate datapoints in order to minimize bias"
   ],
   "metadata": {
    "collapsed": false
   }
  },
  {
   "cell_type": "code",
   "execution_count": 7,
   "outputs": [
    {
     "name": "stdout",
     "output_type": "stream",
     "text": [
      "P-F-NW is the minimum with 6552 datapoints\n"
     ]
    }
   ],
   "source": [
    "protected_attributes = ('sex', 'race')\n",
    "\n",
    "negative_female_nonWhite = (len(complete_dataset[(complete_dataset['Probability'] == 0) & (complete_dataset[protected_attributes[0]] == 0) & (complete_dataset[protected_attributes[1]] == 0)]))\n",
    "negative_female_white = (len(complete_dataset[(complete_dataset['Probability'] == 0) & (complete_dataset[protected_attributes[0]] == 0) & (complete_dataset[protected_attributes[1]] == 1)]))\n",
    "negative_male_nonWhite = (len(complete_dataset[(complete_dataset['Probability'] == 0) & (complete_dataset[protected_attributes[0]] == 1) & (complete_dataset[protected_attributes[1]] == 0)]))\n",
    "negative_male_white = (len(complete_dataset[(complete_dataset['Probability'] == 0) & (complete_dataset[protected_attributes[0]] == 1) & (complete_dataset[protected_attributes[1]] == 1)]))\n",
    "positive_female_nonWhite = (len(complete_dataset[(complete_dataset['Probability'] == 1) & (complete_dataset[protected_attributes[0]] == 0) & (complete_dataset[protected_attributes[1]] == 0)]))\n",
    "positive_female_white = (len(complete_dataset[(complete_dataset['Probability'] == 1) & (complete_dataset[protected_attributes[0]] == 0) & (complete_dataset[protected_attributes[1]] == 1)]))\n",
    "positive_male_nonWhite = (len(complete_dataset[(complete_dataset['Probability'] == 1) & (complete_dataset[protected_attributes[0]] == 1) & (complete_dataset[protected_attributes[1]] == 0)]))\n",
    "positive_male_white = (len(complete_dataset[(complete_dataset['Probability'] == 1) & (complete_dataset[protected_attributes[0]] == 1) & (complete_dataset[protected_attributes[1]] == 1)]))\n",
    "\n",
    "maximum = max(negative_female_nonWhite, negative_female_white, negative_male_nonWhite, negative_male_white, positive_female_nonWhite, positive_female_white, positive_male_nonWhite, positive_male_white)\n",
    "\n",
    "minimum = min(negative_female_nonWhite, negative_female_white, negative_male_nonWhite, negative_male_white, positive_female_nonWhite, positive_female_white, positive_male_nonWhite, positive_male_white)\n",
    "\n",
    "#to retrieve value from counts follow this format : counts[outcome => 1 is positive 0 is negative][sex => 0 is female and 1 is male][race => 0 is non-white and 1 is white]\n",
    "counts = [[[negative_female_nonWhite, negative_female_white], [negative_male_nonWhite, negative_male_white]], [[positive_female_nonWhite, positive_female_white], [positive_male_nonWhite, positive_male_white]]]\n",
    "\n",
    "countarr = [counts[0][0][0], counts[0][0][1], counts[0][1][0], counts[0][1][1], counts[1][0][0], counts[1][0][1], counts[1][1][0], counts[1][1][1]]\n",
    "\n",
    "countlabels = ['N-F-NW', 'N-F-W', 'N-M-NW', 'N-M-W', 'P-F-NW', 'P-F-W', 'P-M-NW', 'P-M-W']\n",
    "\n",
    "for i in range(8):\n",
    "    if countarr[i] is minimum:\n",
    "        print(f\"{countlabels[i]} is the minimum with {countarr[i]} datapoints\")"
   ],
   "metadata": {
    "collapsed": false
   }
  },
  {
   "cell_type": "code",
   "execution_count": 16,
   "outputs": [
    {
     "name": "stderr",
     "output_type": "stream",
     "text": [
      "/tmp/ipykernel_6364/238165786.py:13: SettingWithCopyWarning: \n",
      "A value is trying to be set on a copy of a slice from a DataFrame.\n",
      "Try using .loc[row_indexer,col_indexer] = value instead\n",
      "\n",
      "See the caveats in the documentation: https://pandas.pydata.org/pandas-docs/stable/user_guide/indexing.html#returning-a-view-versus-a-copy\n",
      "  dataframe['race'] = dataframe['race'].astype(str)\n",
      "/tmp/ipykernel_6364/238165786.py:14: SettingWithCopyWarning: \n",
      "A value is trying to be set on a copy of a slice from a DataFrame.\n",
      "Try using .loc[row_indexer,col_indexer] = value instead\n",
      "\n",
      "See the caveats in the documentation: https://pandas.pydata.org/pandas-docs/stable/user_guide/indexing.html#returning-a-view-versus-a-copy\n",
      "  dataframe['sex'] = dataframe['sex'].astype(str)\n"
     ]
    }
   ],
   "source": [
    "df_negative_female_nonWhite = complete_dataset[(complete_dataset['Probability'] == 0) & (complete_dataset[protected_attributes[0]] == 0) & (complete_dataset[protected_attributes[1]] == 0)]\n",
    "df_negative_female_white = complete_dataset[(complete_dataset['Probability'] == 0) & (complete_dataset[protected_attributes[0]] == 0) & (complete_dataset[protected_attributes[1]] == 1)]\n",
    "df_negative_male_nonWhite = complete_dataset[(complete_dataset['Probability'] == 0) & (complete_dataset[protected_attributes[0]] == 1) & (complete_dataset[protected_attributes[1]] == 0)]\n",
    "df_negative_male_white = complete_dataset[(complete_dataset['Probability'] == 0) & (complete_dataset[protected_attributes[0]] == 1) & (complete_dataset[protected_attributes[1]] == 1)]\n",
    "df_positive_female_nonWhite = complete_dataset[(complete_dataset['Probability'] == 1) & (complete_dataset[protected_attributes[0]] == 0) & (complete_dataset[protected_attributes[1]] == 0)]\n",
    "df_positive_female_white = complete_dataset[(complete_dataset['Probability'] == 1) & (complete_dataset[protected_attributes[0]] == 0) & (complete_dataset[protected_attributes[1]] == 1)]\n",
    "df_positive_male_nonWhite = complete_dataset[(complete_dataset['Probability'] == 1) & (complete_dataset[protected_attributes[0]] == 1) & (complete_dataset[protected_attributes[1]] == 0)]\n",
    "df_positive_male_white = complete_dataset[(complete_dataset['Probability'] == 1) & (complete_dataset[protected_attributes[0]] == 1) & (complete_dataset[protected_attributes[1]] == 1)]\n",
    "\n",
    "dataframe_collection = [df_negative_female_nonWhite, df_negative_female_white, df_negative_male_nonWhite, df_negative_male_white, df_positive_female_nonWhite, df_positive_female_white, df_positive_male_nonWhite, df_positive_male_white]\n",
    "\n",
    "for dataframe in dataframe_collection:\n",
    "    dataframe['race'] = dataframe['race'].astype(str)\n",
    "    dataframe['sex'] = dataframe['sex'].astype(str)\n",
    "\n",
    "new_dataframe_collection = []\n",
    "\n",
    "for dataframe in dataframe_collection:\n",
    "    new_dataframe_collection.append(dataframe.sample(n=minimum))"
   ],
   "metadata": {
    "collapsed": false
   }
  },
  {
   "cell_type": "code",
   "execution_count": 17,
   "outputs": [
    {
     "data": {
      "text/plain": "        age  education-num race sex  capital-gain  capital-loss  \\\n480240   20              9    0   0             0             0   \n912570   30             13    0   0             0             0   \n976435   17              6    0   0             0          1602   \n64957    50              9    0   0             0             0   \n45342    30             13    0   0             0             0   \n...     ...            ...  ...  ..           ...           ...   \n504042   40              7    1   1             0             0   \n61466    30             13    1   1             0             0   \n905949   20             15    1   1             0             0   \n734855   30             10    1   1             0             0   \n174047   30             13    1   1             0             0   \n\n        hours-per-week  Probability  \n480240              30            0  \n912570              60            0  \n976435               8            0  \n64957               40            0  \n45342               50            0  \n...                ...          ...  \n504042              70            1  \n61466               40            1  \n905949              50            1  \n734855              40            1  \n174047              45            1  \n\n[52416 rows x 8 columns]",
      "text/html": "<div>\n<style scoped>\n    .dataframe tbody tr th:only-of-type {\n        vertical-align: middle;\n    }\n\n    .dataframe tbody tr th {\n        vertical-align: top;\n    }\n\n    .dataframe thead th {\n        text-align: right;\n    }\n</style>\n<table border=\"1\" class=\"dataframe\">\n  <thead>\n    <tr style=\"text-align: right;\">\n      <th></th>\n      <th>age</th>\n      <th>education-num</th>\n      <th>race</th>\n      <th>sex</th>\n      <th>capital-gain</th>\n      <th>capital-loss</th>\n      <th>hours-per-week</th>\n      <th>Probability</th>\n    </tr>\n  </thead>\n  <tbody>\n    <tr>\n      <th>480240</th>\n      <td>20</td>\n      <td>9</td>\n      <td>0</td>\n      <td>0</td>\n      <td>0</td>\n      <td>0</td>\n      <td>30</td>\n      <td>0</td>\n    </tr>\n    <tr>\n      <th>912570</th>\n      <td>30</td>\n      <td>13</td>\n      <td>0</td>\n      <td>0</td>\n      <td>0</td>\n      <td>0</td>\n      <td>60</td>\n      <td>0</td>\n    </tr>\n    <tr>\n      <th>976435</th>\n      <td>17</td>\n      <td>6</td>\n      <td>0</td>\n      <td>0</td>\n      <td>0</td>\n      <td>1602</td>\n      <td>8</td>\n      <td>0</td>\n    </tr>\n    <tr>\n      <th>64957</th>\n      <td>50</td>\n      <td>9</td>\n      <td>0</td>\n      <td>0</td>\n      <td>0</td>\n      <td>0</td>\n      <td>40</td>\n      <td>0</td>\n    </tr>\n    <tr>\n      <th>45342</th>\n      <td>30</td>\n      <td>13</td>\n      <td>0</td>\n      <td>0</td>\n      <td>0</td>\n      <td>0</td>\n      <td>50</td>\n      <td>0</td>\n    </tr>\n    <tr>\n      <th>...</th>\n      <td>...</td>\n      <td>...</td>\n      <td>...</td>\n      <td>...</td>\n      <td>...</td>\n      <td>...</td>\n      <td>...</td>\n      <td>...</td>\n    </tr>\n    <tr>\n      <th>504042</th>\n      <td>40</td>\n      <td>7</td>\n      <td>1</td>\n      <td>1</td>\n      <td>0</td>\n      <td>0</td>\n      <td>70</td>\n      <td>1</td>\n    </tr>\n    <tr>\n      <th>61466</th>\n      <td>30</td>\n      <td>13</td>\n      <td>1</td>\n      <td>1</td>\n      <td>0</td>\n      <td>0</td>\n      <td>40</td>\n      <td>1</td>\n    </tr>\n    <tr>\n      <th>905949</th>\n      <td>20</td>\n      <td>15</td>\n      <td>1</td>\n      <td>1</td>\n      <td>0</td>\n      <td>0</td>\n      <td>50</td>\n      <td>1</td>\n    </tr>\n    <tr>\n      <th>734855</th>\n      <td>30</td>\n      <td>10</td>\n      <td>1</td>\n      <td>1</td>\n      <td>0</td>\n      <td>0</td>\n      <td>40</td>\n      <td>1</td>\n    </tr>\n    <tr>\n      <th>174047</th>\n      <td>30</td>\n      <td>13</td>\n      <td>1</td>\n      <td>1</td>\n      <td>0</td>\n      <td>0</td>\n      <td>45</td>\n      <td>1</td>\n    </tr>\n  </tbody>\n</table>\n<p>52416 rows × 8 columns</p>\n</div>"
     },
     "execution_count": 17,
     "metadata": {},
     "output_type": "execute_result"
    }
   ],
   "source": [
    "df = pd.concat(new_dataframe_collection)\n",
    "df"
   ],
   "metadata": {
    "collapsed": false
   }
  },
  {
   "cell_type": "code",
   "execution_count": 18,
   "outputs": [],
   "source": [
    "x_train, y_train = df.loc[:, df.columns != 'Probability'], df['Probability']\n",
    "x_test, y_test = test_dataset.loc[:, test_dataset.columns != 'Probability'], test_dataset['Probability']"
   ],
   "metadata": {
    "collapsed": false
   }
  },
  {
   "cell_type": "code",
   "execution_count": 19,
   "outputs": [],
   "source": [
    "from sklearn.ensemble import RandomForestClassifier\n",
    "\n",
    "classifier = RandomForestClassifier(n_estimators=100)\n",
    "classifier.fit(x_train, y_train)\n",
    "\n",
    "y_pred = classifier.predict(x_test)"
   ],
   "metadata": {
    "collapsed": false
   }
  },
  {
   "cell_type": "code",
   "execution_count": 20,
   "outputs": [
    {
     "name": "stdout",
     "output_type": "stream",
     "text": [
      "Accuracy score: 0.7509812593288739\n"
     ]
    }
   ],
   "source": [
    "from sklearn.metrics import accuracy_score\n",
    "\n",
    "print(\"Accuracy score: {}\".format(accuracy_score(y_test, y_pred)))"
   ],
   "metadata": {
    "collapsed": false
   }
  },
  {
   "cell_type": "code",
   "execution_count": 21,
   "outputs": [
    {
     "name": "stdout",
     "output_type": "stream",
     "text": [
      "Accuracy score: 0.7509812593288739\n"
     ]
    }
   ],
   "source": [
    "from sklearn.linear_model import LogisticRegression\n",
    "\n",
    "logistic_classifier = LogisticRegression(C=1.0, penalty='l2', solver='liblinear', max_iter=100)\n",
    "logistic_classifier.fit(x_train, y_train)\n",
    "\n",
    "y_pred_logistic = logistic_classifier.predict(x_test)\n",
    "\n",
    "print(\"Accuracy score: {}\".format(accuracy_score(y_test, y_pred_logistic)))\n"
   ],
   "metadata": {
    "collapsed": false
   }
  },
  {
   "cell_type": "code",
   "execution_count": 22,
   "outputs": [
    {
     "name": "stdout",
     "output_type": "stream",
     "text": [
      "[[27169     0]\n",
      " [ 9009     0]]\n",
      "[[27169     0]\n",
      " [ 9009     0]]\n"
     ]
    }
   ],
   "source": [
    "from sklearn.metrics import confusion_matrix\n",
    "\n",
    "\n",
    "\n",
    "print(confusion_matrix(y_test, y_pred))\n",
    "print(confusion_matrix(y_test, y_pred_logistic))"
   ],
   "metadata": {
    "collapsed": false
   }
  },
  {
   "cell_type": "code",
   "execution_count": 23,
   "outputs": [
    {
     "name": "stdout",
     "output_type": "stream",
     "text": [
      "              precision    recall  f1-score   support\n",
      "\n",
      "       <=50k       0.75      1.00      0.86     27169\n",
      "        >50k       0.00      0.00      0.00      9009\n",
      "\n",
      "    accuracy                           0.75     36178\n",
      "   macro avg       0.38      0.50      0.43     36178\n",
      "weighted avg       0.56      0.75      0.64     36178\n",
      "\n",
      "              precision    recall  f1-score   support\n",
      "\n",
      "       <=50k       0.75      1.00      0.86     27169\n",
      "        >50k       0.00      0.00      0.00      9009\n",
      "\n",
      "    accuracy                           0.75     36178\n",
      "   macro avg       0.38      0.50      0.43     36178\n",
      "weighted avg       0.56      0.75      0.64     36178\n",
      "\n"
     ]
    },
    {
     "name": "stderr",
     "output_type": "stream",
     "text": [
      "/home/roham_ml/anaconda3/lib/python3.9/site-packages/sklearn/metrics/_classification.py:1318: UndefinedMetricWarning: Precision and F-score are ill-defined and being set to 0.0 in labels with no predicted samples. Use `zero_division` parameter to control this behavior.\n",
      "  _warn_prf(average, modifier, msg_start, len(result))\n",
      "/home/roham_ml/anaconda3/lib/python3.9/site-packages/sklearn/metrics/_classification.py:1318: UndefinedMetricWarning: Precision and F-score are ill-defined and being set to 0.0 in labels with no predicted samples. Use `zero_division` parameter to control this behavior.\n",
      "  _warn_prf(average, modifier, msg_start, len(result))\n",
      "/home/roham_ml/anaconda3/lib/python3.9/site-packages/sklearn/metrics/_classification.py:1318: UndefinedMetricWarning: Precision and F-score are ill-defined and being set to 0.0 in labels with no predicted samples. Use `zero_division` parameter to control this behavior.\n",
      "  _warn_prf(average, modifier, msg_start, len(result))\n",
      "/home/roham_ml/anaconda3/lib/python3.9/site-packages/sklearn/metrics/_classification.py:1318: UndefinedMetricWarning: Precision and F-score are ill-defined and being set to 0.0 in labels with no predicted samples. Use `zero_division` parameter to control this behavior.\n",
      "  _warn_prf(average, modifier, msg_start, len(result))\n",
      "/home/roham_ml/anaconda3/lib/python3.9/site-packages/sklearn/metrics/_classification.py:1318: UndefinedMetricWarning: Precision and F-score are ill-defined and being set to 0.0 in labels with no predicted samples. Use `zero_division` parameter to control this behavior.\n",
      "  _warn_prf(average, modifier, msg_start, len(result))\n",
      "/home/roham_ml/anaconda3/lib/python3.9/site-packages/sklearn/metrics/_classification.py:1318: UndefinedMetricWarning: Precision and F-score are ill-defined and being set to 0.0 in labels with no predicted samples. Use `zero_division` parameter to control this behavior.\n",
      "  _warn_prf(average, modifier, msg_start, len(result))\n"
     ]
    }
   ],
   "source": [
    "from sklearn.metrics import classification_report\n",
    "\n",
    "print(classification_report(y_test, y_pred, target_names=['<=50k', '>50k']))\n",
    "print(classification_report(y_test, y_pred_logistic, target_names=['<=50k', '>50k']))"
   ],
   "metadata": {
    "collapsed": false
   }
  },
  {
   "cell_type": "code",
   "execution_count": 24,
   "outputs": [
    {
     "name": "stderr",
     "output_type": "stream",
     "text": [
      "/home/roham_ml/anaconda3/lib/python3.9/site-packages/sklearn/utils/deprecation.py:87: FutureWarning: Function plot_roc_curve is deprecated; Function :func:`plot_roc_curve` is deprecated in 1.0 and will be removed in 1.2. Use one of the class methods: :meth:`sklearn.metric.RocCurveDisplay.from_predictions` or :meth:`sklearn.metric.RocCurveDisplay.from_estimator`.\n",
      "  warnings.warn(msg, category=FutureWarning)\n",
      "/home/roham_ml/anaconda3/lib/python3.9/site-packages/sklearn/utils/deprecation.py:87: FutureWarning: Function plot_roc_curve is deprecated; Function :func:`plot_roc_curve` is deprecated in 1.0 and will be removed in 1.2. Use one of the class methods: :meth:`sklearn.metric.RocCurveDisplay.from_predictions` or :meth:`sklearn.metric.RocCurveDisplay.from_estimator`.\n",
      "  warnings.warn(msg, category=FutureWarning)\n"
     ]
    },
    {
     "data": {
      "text/plain": "<sklearn.metrics._plot.roc_curve.RocCurveDisplay at 0x7f4240ccbbe0>"
     },
     "execution_count": 24,
     "metadata": {},
     "output_type": "execute_result"
    },
    {
     "data": {
      "text/plain": "<Figure size 640x480 with 1 Axes>",
      "image/png": "[encoded data removed]"
     },
     "metadata": {},
     "output_type": "display_data"
    },
    {
     "data": {
      "text/plain": "<Figure size 640x480 with 1 Axes>",
      "image/png": "[encoded data removed]"
     },
     "metadata": {},
     "output_type": "display_data"
    }
   ],
   "source": [
    "from sklearn.metrics import plot_roc_curve\n",
    "\n",
    "plot_roc_curve(classifier, x_test, y_test)\n",
    "plot_roc_curve(logistic_classifier, x_test, y_test)"
   ],
   "metadata": {
    "collapsed": false
   }
  },
  {
   "cell_type": "code",
   "execution_count": null,
   "outputs": [
    {
     "name": "stderr",
     "output_type": "stream",
     "text": [
      "/home/roham_ml/Desktop/meesterproef/code/GB_SMOTE/Metrics.py:139: SyntaxWarning: \"is not\" with a literal. Did you mean \"!=\"?\n",
      "  if (TP + FN) is not 0:\n",
      "/home/roham_ml/Desktop/meesterproef/code/GB_SMOTE/Metrics.py:147: SyntaxWarning: \"is not\" with a literal. Did you mean \"!=\"?\n",
      "  if (FP + TN) is not 0:\n",
      "/home/roham_ml/Desktop/meesterproef/code/GB_SMOTE/Metrics.py:155: SyntaxWarning: \"is not\" with a literal. Did you mean \"!=\"?\n",
      "  if (TP + FP) is not 0:\n"
     ]
    },
    {
     "name": "stdout",
     "output_type": "stream",
     "text": [
      "\n",
      "\n",
      "\n",
      "metrics for random forest classifier:\n",
      "recall : 0.0\n",
      "far : 0.0\n"
     ]
    },
    {
     "name": "stderr",
     "output_type": "stream",
     "text": [
      "/home/roham_ml/Desktop/meesterproef/code/GB_SMOTE/Metrics.py:156: RuntimeWarning: invalid value encountered in long_scalars\n",
      "  prec = TP / (TP + FP)\n"
     ]
    },
    {
     "name": "stdout",
     "output_type": "stream",
     "text": [
      "precision : nan\n",
      "accuracy : 0.75\n"
     ]
    },
    {
     "name": "stderr",
     "output_type": "stream",
     "text": [
      "/home/roham_ml/Desktop/meesterproef/code/GB_SMOTE/Metrics.py:156: RuntimeWarning: invalid value encountered in long_scalars\n",
      "  prec = TP / (TP + FP)\n"
     ]
    },
    {
     "name": "stdout",
     "output_type": "stream",
     "text": [
      "F1 Score : nan\n",
      "aod :sex 0.0\n",
      "eod :sex 0.0\n",
      "SPD: 0.0\n"
     ]
    }
   ],
   "source": [
    "from Metrics import *\n",
    "\n",
    "def get_allround_metrics(test_dataset, classifier, x_train, y_train, x_test, y_test, protected_attributes):\n",
    "\n",
    "    print(\"recall :\", measure_final_score(test_dataset, classifier, x_train, y_train, x_test, y_test, protected_attributes[0], 'recall'))\n",
    "    print(\"far :\",measure_final_score(test_dataset, classifier, x_train, y_train, x_test, y_test, protected_attributes[0], 'far'))\n",
    "    print(\"precision :\", measure_final_score(test_dataset, classifier, x_train, y_train, x_test, y_test, protected_attributes[0], 'precision'))\n",
    "    print(\"accuracy :\",measure_final_score(test_dataset, classifier, x_train, y_train, x_test, y_test, protected_attributes[0], 'accuracy'))\n",
    "    print(\"F1 Score :\",measure_final_score(test_dataset, classifier, x_train, y_train, x_test, y_test, protected_attributes[0], 'F1'))\n",
    "    print(\"aod :\"+protected_attributes[0],measure_final_score(test_dataset, classifier, x_train, y_train, x_test, y_test, protected_attributes[0], 'aod'))\n",
    "    print(\"eod :\"+protected_attributes[0],measure_final_score(test_dataset, classifier, x_train, y_train, x_test, y_test, protected_attributes[0], 'eod'))\n",
    "\n",
    "    print(\"SPD:\",measure_final_score(test_dataset, classifier, x_train, y_train, x_test, y_test, protected_attributes[0], 'SPD'))\n",
    "    print(\"DI:\",measure_final_score(test_dataset, classifier, x_train, y_train, x_test, y_test, protected_attributes[0], 'DI'))\n",
    "\n",
    "    print(\"-------------\")\n",
    "\n",
    "    print(\"recall :\", measure_final_score(test_dataset, classifier, x_train, y_train, x_test, y_test, protected_attributes[1], 'recall'))\n",
    "    print(\"far :\",measure_final_score(test_dataset, classifier, x_train, y_train, x_test, y_test, protected_attributes[1], 'far'))\n",
    "    print(\"precision :\", measure_final_score(test_dataset, classifier, x_train, y_train, x_test, y_test, protected_attributes[1], 'precision'))\n",
    "    print(\"accuracy :\",measure_final_score(test_dataset, classifier, x_train, y_train, x_test, y_test, protected_attributes[1], 'accuracy'))\n",
    "    print(\"F1 Score :\",measure_final_score(test_dataset, classifier, x_train, y_train, x_test, y_test, protected_attributes[1], 'F1'))\n",
    "    print(\"aod :\"+protected_attributes[1],measure_final_score(test_dataset, classifier, x_train, y_train, x_test, y_test, protected_attributes[1], 'aod'))\n",
    "    print(\"eod :\"+protected_attributes[1],measure_final_score(test_dataset, classifier, x_train, y_train, x_test, y_test, protected_attributes[1], 'eod'))\n",
    "\n",
    "    print(\"SPD:\",measure_final_score(test_dataset, classifier, x_train, y_train, x_test, y_test, protected_attributes[1], 'SPD'))\n",
    "    print(\"DI:\",measure_final_score(test_dataset, classifier, x_train, y_train, x_test, y_test, protected_attributes[1], 'DI'))\n",
    "\n",
    "print(\"\\n\\n\\nmetrics for random forest classifier:\")\n",
    "get_allround_metrics(test_dataset, classifier, x_train, y_train, x_test, y_test, protected_attributes)\n",
    "\n",
    "print(\"\\n\\n\\nmetrics for Logistic regression:\")\n",
    "get_allround_metrics(test_dataset, logistic_classifier, x_train, y_train, x_test, y_test, protected_attributes)\n"
   ],
   "metadata": {
    "collapsed": false
   }
  }
 ],
 "metadata": {
  "kernelspec": {
   "display_name": "Python 3",
   "language": "python",
   "name": "python3"
  },
  "language_info": {
   "codemirror_mode": {
    "name": "ipython",
    "version": 2
   },
   "file_extension": ".py",
   "mimetype": "text/x-python",
   "name": "python",
   "nbconvert_exporter": "python",
   "pygments_lexer": "ipython2",
   "version": "2.7.6"
  }
 },
 "nbformat": 4,
 "nbformat_minor": 0
}
