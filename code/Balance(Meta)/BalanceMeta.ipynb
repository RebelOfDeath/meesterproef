{
 "cells": [
  {
   "cell_type": "code",
   "execution_count": 1,
   "outputs": [
    {
     "name": "stderr",
     "output_type": "stream",
     "text": [
      "INFO (2023-02-19 13:00:39,181) [__init__/<module> (line 52)]: Using balance version 0.4.0\n"
     ]
    }
   ],
   "source": [
    "from balance import Sample\n",
    "import pandas as pd\n",
    "import numpy as np"
   ],
   "metadata": {
    "collapsed": false
   }
  },
  {
   "cell_type": "code",
   "execution_count": 2,
   "outputs": [],
   "source": [
    "df_train = pd.read_csv('../../data/processed/trainData.csv')\n",
    "df_test = pd.read_csv('../../data/processed/testData.csv')"
   ],
   "metadata": {
    "collapsed": false
   }
  },
  {
   "cell_type": "code",
   "execution_count": 3,
   "outputs": [],
   "source": [
    "def preprocess_data(dataset):\n",
    "    dataset = dataset.drop(['workclass','fnlwgt','education','marital-status','occupation','relationship','native-country'],axis=1)\n",
    "    dataset['sex'] = np.where(dataset['sex'] == ' Male', 1, 0)\n",
    "    dataset['race'] = np.where(dataset['race'] != ' White', 0, 1)\n",
    "    dataset['Probability'] = np.where(dataset['Probability'] == ' <=50K', 0, 1)\n",
    "    dataset['age'] = np.where(dataset['age'] >= 70, 70, dataset['age'])\n",
    "    dataset['age'] = np.where((dataset['age'] >= 60 ) & (dataset['age'] < 70), 60, dataset['age'])\n",
    "    dataset['age'] = np.where((dataset['age'] >= 50 ) & (dataset['age'] < 60), 50, dataset['age'])\n",
    "    dataset['age'] = np.where((dataset['age'] >= 40 ) & (dataset['age'] < 50), 40, dataset['age'])\n",
    "    dataset['age'] = np.where((dataset['age'] >= 30 ) & (dataset['age'] < 40), 30, dataset['age'])\n",
    "    dataset['age'] = np.where((dataset['age'] >= 20 ) & (dataset['age'] < 30), 20, dataset['age'])\n",
    "    dataset['age'] = np.where((dataset['age'] >= 10 ) & (dataset['age'] < 10), 10, dataset['age'])\n",
    "    dataset['age'] = np.where(dataset['age'] < 10, 0, dataset['age'])\n",
    "\n",
    "    return dataset"
   ],
   "metadata": {
    "collapsed": false
   }
  },
  {
   "cell_type": "code",
   "execution_count": 5,
   "outputs": [
    {
     "name": "stdout",
     "output_type": "stream",
     "text": [
      "       age  education-num  race  sex  capital-gain  capital-loss  \\\n",
      "0       50             10     1    0             0             0   \n",
      "1       40             13     0    0             0             0   \n",
      "2       40             13     0    0             0             0   \n",
      "3       30              8     1    1             0             0   \n",
      "4       30              8     1    0             0             0   \n",
      "...    ...            ...   ...  ...           ...           ...   \n",
      "36173   20              8     1    1             0             0   \n",
      "36174   20             10     0    0             0             0   \n",
      "36175   50             14     1    1             0             0   \n",
      "36176   50              5     0    1             0             0   \n",
      "36177   20              6     1    1             0             0   \n",
      "\n",
      "       hours-per-week  Probability     id  \n",
      "0                  49            0      0  \n",
      "1                  35            1      1  \n",
      "2                  60            0      2  \n",
      "3                  40            0      3  \n",
      "4                  40            0      4  \n",
      "...               ...          ...    ...  \n",
      "36173              40            0  36173  \n",
      "36174              20            0  36174  \n",
      "36175              40            1  36175  \n",
      "36176              40            0  36176  \n",
      "36177              60            0  36177  \n",
      "\n",
      "[36178 rows x 9 columns]\n",
      "      age  education-num  race  sex  capital-gain  capital-loss  \\\n",
      "0      40             13     1    1          5178             0   \n",
      "1      30              4     0    1             0             0   \n",
      "2      20              9     1    1             0             0   \n",
      "3      40             14     1    0             0             0   \n",
      "4      50              9     0    0             0             0   \n",
      "...   ...            ...   ...  ...           ...           ...   \n",
      "9039   20             10     1    1             0             0   \n",
      "9040   50              9     1    0             0             0   \n",
      "9041   60              9     1    1             0             0   \n",
      "9042   40             13     0    1          5455             0   \n",
      "9043   30             13     1    1             0             0   \n",
      "\n",
      "      hours-per-week  Probability     id  \n",
      "0                 40            1  36178  \n",
      "1                 45            0  36179  \n",
      "2                 35            0  36180  \n",
      "3                 45            1  36181  \n",
      "4                 20            0  36182  \n",
      "...              ...          ...    ...  \n",
      "9039              40            0  45217  \n",
      "9040              32            0  45218  \n",
      "9041              48            0  45219  \n",
      "9042              40            0  45220  \n",
      "9043              60            1  45221  \n",
      "\n",
      "[9044 rows x 9 columns]\n",
      "       age  education-num  race  sex  capital-gain  capital-loss  \\\n",
      "0       50             10     1    0             0             0   \n",
      "1       40             13     0    0             0             0   \n",
      "2       40             13     0    0             0             0   \n",
      "3       30              8     1    1             0             0   \n",
      "4       30              8     1    0             0             0   \n",
      "...    ...            ...   ...  ...           ...           ...   \n",
      "36173   20              8     1    1             0             0   \n",
      "36174   20             10     0    0             0             0   \n",
      "36175   50             14     1    1             0             0   \n",
      "36176   50              5     0    1             0             0   \n",
      "36177   20              6     1    1             0             0   \n",
      "\n",
      "       hours-per-week  Probability     id  \n",
      "0                  49            0      0  \n",
      "1                  35            1      1  \n",
      "2                  60            0      2  \n",
      "3                  40            0      3  \n",
      "4                  40            0      4  \n",
      "...               ...          ...    ...  \n",
      "36173              40            0  36173  \n",
      "36174              20            0  36174  \n",
      "36175              40            1  36175  \n",
      "36176              40            0  36176  \n",
      "36177              60            0  36177  \n",
      "\n",
      "[36178 rows x 9 columns]\n",
      "      age  education-num  race  sex  capital-gain  capital-loss  \\\n",
      "0      40             13     1    1          5178             0   \n",
      "1      30              4     0    1             0             0   \n",
      "2      20              9     1    1             0             0   \n",
      "3      40             14     1    0             0             0   \n",
      "4      50              9     0    0             0             0   \n",
      "...   ...            ...   ...  ...           ...           ...   \n",
      "9039   20             10     1    1             0             0   \n",
      "9040   50              9     1    0             0             0   \n",
      "9041   60              9     1    1             0             0   \n",
      "9042   40             13     0    1          5455             0   \n",
      "9043   30             13     1    1             0             0   \n",
      "\n",
      "      hours-per-week  Probability     id  \n",
      "0                 40            1  36178  \n",
      "1                 45            0  36179  \n",
      "2                 35            0  36180  \n",
      "3                 45            1  36181  \n",
      "4                 20            0  36182  \n",
      "...              ...          ...    ...  \n",
      "9039              40            0  45217  \n",
      "9040              32            0  45218  \n",
      "9041              48            0  45219  \n",
      "9042              40            0  45220  \n",
      "9043              60            1  45221  \n",
      "\n",
      "[9044 rows x 9 columns]\n"
     ]
    }
   ],
   "source": [
    "train_dataset = preprocess_data(df_train)\n",
    "train_dataset['id'] = range(train_dataset.shape[0])\n",
    "print(train_dataset)\n",
    "test_dataset = preprocess_data(df_test)\n",
    "test_dataset['id'] = range(train_dataset.shape[0], train_dataset.shape[0] + test_dataset.shape[0])\n",
    "print(test_dataset)"
   ],
   "metadata": {
    "collapsed": false
   }
  },
  {
   "cell_type": "code",
   "execution_count": 7,
   "outputs": [
    {
     "name": "stderr",
     "output_type": "stream",
     "text": [
      "WARNING (2023-02-19 13:01:22,999) [sample_class/from_frame (line 187)]: Casting id column to string\n",
      "/home/rohamkoohestani/anaconda3/lib/python3.9/site-packages/balance/util.py:1666: FutureWarning:\n",
      "\n",
      "Passing a set as an indexer is deprecated and will raise in a future version. Use a list instead.\n",
      "\n",
      "/home/rohamkoohestani/anaconda3/lib/python3.9/site-packages/balance/util.py:1666: FutureWarning:\n",
      "\n",
      "Passing a set as an indexer is deprecated and will raise in a future version. Use a list instead.\n",
      "\n",
      "WARNING (2023-02-19 13:01:23,137) [util/_warn_of_df_dtypes_change (line 1720)]: The dtypes of sample._df were changed from the original dtypes of the input df, here are the differences - \n",
      "WARNING (2023-02-19 13:01:23,138) [util/_warn_of_df_dtypes_change (line 1731)]: The (old) dtypes that changed for df (before the change):\n",
      "WARNING (2023-02-19 13:01:23,141) [util/_warn_of_df_dtypes_change (line 1734)]: \n",
      "sex               int64\n",
      "education-num     int64\n",
      "race              int64\n",
      "age               int64\n",
      "hours-per-week    int64\n",
      "id                int64\n",
      "capital-loss      int64\n",
      "Probability       int64\n",
      "capital-gain      int64\n",
      "dtype: object\n",
      "WARNING (2023-02-19 13:01:23,142) [util/_warn_of_df_dtypes_change (line 1735)]: The (new) dtypes saved in df (after the change):\n",
      "WARNING (2023-02-19 13:01:23,145) [util/_warn_of_df_dtypes_change (line 1736)]: \n",
      "sex               float64\n",
      "education-num     float64\n",
      "race              float64\n",
      "age               float64\n",
      "hours-per-week    float64\n",
      "id                 object\n",
      "capital-loss      float64\n",
      "Probability       float64\n",
      "capital-gain      float64\n",
      "dtype: object\n",
      "WARNING (2023-02-19 13:01:23,145) [sample_class/from_frame (line 250)]: No weights passed, setting all weights to 1\n",
      "WARNING (2023-02-19 13:01:23,159) [util/guess_id_column (line 111)]: Guessed id column name id for the data\n",
      "WARNING (2023-02-19 13:01:23,162) [sample_class/from_frame (line 187)]: Casting id column to string\n",
      "/home/rohamkoohestani/anaconda3/lib/python3.9/site-packages/balance/util.py:1666: FutureWarning:\n",
      "\n",
      "Passing a set as an indexer is deprecated and will raise in a future version. Use a list instead.\n",
      "\n",
      "/home/rohamkoohestani/anaconda3/lib/python3.9/site-packages/balance/util.py:1666: FutureWarning:\n",
      "\n",
      "Passing a set as an indexer is deprecated and will raise in a future version. Use a list instead.\n",
      "\n",
      "WARNING (2023-02-19 13:01:23,218) [util/_warn_of_df_dtypes_change (line 1720)]: The dtypes of sample._df were changed from the original dtypes of the input df, here are the differences - \n",
      "WARNING (2023-02-19 13:01:23,219) [util/_warn_of_df_dtypes_change (line 1731)]: The (old) dtypes that changed for df (before the change):\n",
      "WARNING (2023-02-19 13:01:23,222) [util/_warn_of_df_dtypes_change (line 1734)]: \n",
      "sex               int64\n",
      "education-num     int64\n",
      "race              int64\n",
      "age               int64\n",
      "hours-per-week    int64\n",
      "id                int64\n",
      "capital-loss      int64\n",
      "Probability       int64\n",
      "capital-gain      int64\n",
      "dtype: object\n",
      "WARNING (2023-02-19 13:01:23,222) [util/_warn_of_df_dtypes_change (line 1735)]: The (new) dtypes saved in df (after the change):\n",
      "WARNING (2023-02-19 13:01:23,224) [util/_warn_of_df_dtypes_change (line 1736)]: \n",
      "sex               float64\n",
      "education-num     float64\n",
      "race              float64\n",
      "age               float64\n",
      "hours-per-week    float64\n",
      "id                 object\n",
      "capital-loss      float64\n",
      "Probability       float64\n",
      "capital-gain      float64\n",
      "dtype: object\n",
      "WARNING (2023-02-19 13:01:23,225) [sample_class/from_frame (line 250)]: No weights passed, setting all weights to 1\n"
     ]
    }
   ],
   "source": [
    "sample = Sample.from_frame(train_dataset, outcome_columns=['Probability'], id_column='id')\n",
    "\n",
    "target = Sample.from_frame(test_dataset)\n",
    "sample_with_target = sample.set_target(target)"
   ],
   "metadata": {
    "collapsed": false
   }
  },
  {
   "cell_type": "code",
   "execution_count": 9,
   "outputs": [
    {
     "name": "stderr",
     "output_type": "stream",
     "text": [
      "INFO (2023-02-19 13:08:18,144) [ipw/ipw (line 428)]: Starting ipw function\n",
      "WARNING (2023-02-19 13:08:18,145) [util/choose_variables (line 1154)]: Ignoring variables not present in all Samples: {'Probability'}\n",
      "INFO (2023-02-19 13:08:18,152) [adjustment/apply_transformations (line 255)]: Adding the variables: []\n",
      "INFO (2023-02-19 13:08:18,152) [adjustment/apply_transformations (line 256)]: Transforming the variables: ['sex', 'race']\n",
      "INFO (2023-02-19 13:08:18,168) [adjustment/apply_transformations (line 293)]: Final variables in output: ['sex', 'race']\n",
      "INFO (2023-02-19 13:08:18,203) [ipw/ipw (line 462)]: Building model matrix\n",
      "INFO (2023-02-19 13:08:18,565) [ipw/ipw (line 486)]: The formula used to build the model matrix: ['sex + race']\n",
      "INFO (2023-02-19 13:08:18,568) [ipw/ipw (line 489)]: The number of columns in the model matrix: 1\n",
      "INFO (2023-02-19 13:08:18,569) [ipw/ipw (line 490)]: The number of rows in the model matrix: 45222\n",
      "INFO (2023-02-19 13:08:19,092) [ipw/ipw (line 521)]: Fitting logistic model\n"
     ]
    },
    {
     "ename": "OSError",
     "evalue": "libgfortran.so.3: cannot open shared object file: No such file or directory",
     "output_type": "error",
     "traceback": [
      "\u001B[0;31m---------------------------------------------------------------------------\u001B[0m",
      "\u001B[0;31mOSError\u001B[0m                                   Traceback (most recent call last)",
      "Input \u001B[0;32mIn [9]\u001B[0m, in \u001B[0;36m<cell line: 1>\u001B[0;34m()\u001B[0m\n\u001B[0;32m----> 1\u001B[0m adjusted \u001B[38;5;241m=\u001B[39m \u001B[43msample_with_target\u001B[49m\u001B[38;5;241;43m.\u001B[39;49m\u001B[43madjust\u001B[49m\u001B[43m(\u001B[49m\u001B[43mvariables\u001B[49m\u001B[38;5;241;43m=\u001B[39;49m\u001B[43m[\u001B[49m\u001B[38;5;124;43m'\u001B[39;49m\u001B[38;5;124;43msex\u001B[39;49m\u001B[38;5;124;43m'\u001B[39;49m\u001B[43m,\u001B[49m\u001B[43m \u001B[49m\u001B[38;5;124;43m'\u001B[39;49m\u001B[38;5;124;43mrace\u001B[39;49m\u001B[38;5;124;43m'\u001B[39;49m\u001B[43m]\u001B[49m\u001B[43m)\u001B[49m\n",
      "File \u001B[0;32m~/anaconda3/lib/python3.9/site-packages/balance/sample_class.py:416\u001B[0m, in \u001B[0;36mSample.adjust\u001B[0;34m(self, target, method, *args, **kwargs)\u001B[0m\n\u001B[1;32m    413\u001B[0m \u001B[38;5;28;01melse\u001B[39;00m:\n\u001B[1;32m    414\u001B[0m     \u001B[38;5;28;01mraise\u001B[39;00m \u001B[38;5;167;01mValueError\u001B[39;00m(\u001B[38;5;124m\"\u001B[39m\u001B[38;5;124mMethod should be one of existing weighting methods\u001B[39m\u001B[38;5;124m\"\u001B[39m)\n\u001B[0;32m--> 416\u001B[0m adjusted \u001B[38;5;241m=\u001B[39m \u001B[43madjustment_function\u001B[49m\u001B[43m(\u001B[49m\n\u001B[1;32m    417\u001B[0m \u001B[43m    \u001B[49m\u001B[43msample_df\u001B[49m\u001B[38;5;241;43m=\u001B[39;49m\u001B[38;5;28;43mself\u001B[39;49m\u001B[38;5;241;43m.\u001B[39;49m\u001B[43mcovars\u001B[49m\u001B[43m(\u001B[49m\u001B[43m)\u001B[49m\u001B[38;5;241;43m.\u001B[39;49m\u001B[43mdf\u001B[49m\u001B[43m,\u001B[49m\n\u001B[1;32m    418\u001B[0m \u001B[43m    \u001B[49m\u001B[43msample_weights\u001B[49m\u001B[38;5;241;43m=\u001B[39;49m\u001B[38;5;28;43mself\u001B[39;49m\u001B[38;5;241;43m.\u001B[39;49m\u001B[43mweight_column\u001B[49m\u001B[43m,\u001B[49m\n\u001B[1;32m    419\u001B[0m \u001B[43m    \u001B[49m\u001B[43mtarget_df\u001B[49m\u001B[38;5;241;43m=\u001B[39;49m\u001B[43mtarget\u001B[49m\u001B[38;5;241;43m.\u001B[39;49m\u001B[43mcovars\u001B[49m\u001B[43m(\u001B[49m\u001B[43m)\u001B[49m\u001B[38;5;241;43m.\u001B[39;49m\u001B[43mdf\u001B[49m\u001B[43m,\u001B[49m\n\u001B[1;32m    420\u001B[0m \u001B[43m    \u001B[49m\u001B[43mtarget_weights\u001B[49m\u001B[38;5;241;43m=\u001B[39;49m\u001B[43mtarget\u001B[49m\u001B[38;5;241;43m.\u001B[39;49m\u001B[43mweight_column\u001B[49m\u001B[43m,\u001B[49m\n\u001B[1;32m    421\u001B[0m \u001B[43m    \u001B[49m\u001B[38;5;241;43m*\u001B[39;49m\u001B[43margs\u001B[49m\u001B[43m,\u001B[49m\n\u001B[1;32m    422\u001B[0m \u001B[43m    \u001B[49m\u001B[38;5;241;43m*\u001B[39;49m\u001B[38;5;241;43m*\u001B[39;49m\u001B[43mkwargs\u001B[49m\u001B[43m,\u001B[49m\n\u001B[1;32m    423\u001B[0m \u001B[43m\u001B[49m\u001B[43m)\u001B[49m\n\u001B[1;32m    424\u001B[0m new_sample\u001B[38;5;241m.\u001B[39mset_weights(adjusted[\u001B[38;5;124m\"\u001B[39m\u001B[38;5;124mweights\u001B[39m\u001B[38;5;124m\"\u001B[39m])\n\u001B[1;32m    425\u001B[0m new_sample\u001B[38;5;241m.\u001B[39m_adjustment_model \u001B[38;5;241m=\u001B[39m adjusted[\u001B[38;5;124m\"\u001B[39m\u001B[38;5;124mmodel\u001B[39m\u001B[38;5;124m\"\u001B[39m]\n",
      "File \u001B[0;32m~/anaconda3/lib/python3.9/site-packages/balance/weighting_methods/ipw.py:540\u001B[0m, in \u001B[0;36mipw\u001B[0;34m(sample_df, sample_weights, target_df, target_weights, variables, model, weight_trimming_mean_ratio, weight_trimming_percentile, balance_classes, transformations, na_action, max_de, formula, penalty_factor, one_hot_encoding, random_seed, *args, **kwargs)\u001B[0m\n\u001B[1;32m    536\u001B[0m         \u001B[38;5;28;01mwith\u001B[39;00m np\u001B[38;5;241m.\u001B[39merrstate(\n\u001B[1;32m    537\u001B[0m             divide\u001B[38;5;241m=\u001B[39m\u001B[38;5;124m\"\u001B[39m\u001B[38;5;124mignore\u001B[39m\u001B[38;5;124m\"\u001B[39m\n\u001B[1;32m    538\u001B[0m         ):  \u001B[38;5;66;03m# ignoring np warning \"divide by zero encountered in log\"\u001B[39;00m\n\u001B[1;32m    539\u001B[0m             \u001B[38;5;28;01mwith\u001B[39;00m _patch_scipy_random():\n\u001B[0;32m--> 540\u001B[0m                 fit \u001B[38;5;241m=\u001B[39m \u001B[43mcvglmnet\u001B[49m\u001B[43m(\u001B[49m\n\u001B[1;32m    541\u001B[0m \u001B[43m                    \u001B[49m\u001B[43mx\u001B[49m\u001B[38;5;241;43m=\u001B[39;49m\u001B[43mX_matrix\u001B[49m\u001B[43m,\u001B[49m\n\u001B[1;32m    542\u001B[0m \u001B[43m                    \u001B[49m\u001B[43my\u001B[49m\u001B[38;5;241;43m=\u001B[39;49m\u001B[43my\u001B[49m\u001B[43m,\u001B[49m\n\u001B[1;32m    543\u001B[0m \u001B[43m                    \u001B[49m\u001B[43mfamily\u001B[49m\u001B[38;5;241;43m=\u001B[39;49m\u001B[38;5;124;43m\"\u001B[39;49m\u001B[38;5;124;43mbinomial\u001B[39;49m\u001B[38;5;124;43m\"\u001B[39;49m\u001B[43m,\u001B[49m\n\u001B[1;32m    544\u001B[0m \u001B[43m                    \u001B[49m\u001B[43mptype\u001B[49m\u001B[38;5;241;43m=\u001B[39;49m\u001B[38;5;124;43m\"\u001B[39;49m\u001B[38;5;124;43mdeviance\u001B[39;49m\u001B[38;5;124;43m\"\u001B[39;49m\u001B[43m,\u001B[49m\n\u001B[1;32m    545\u001B[0m \u001B[43m                    \u001B[49m\u001B[43malpha\u001B[49m\u001B[38;5;241;43m=\u001B[39;49m\u001B[38;5;241;43m1\u001B[39;49m\u001B[43m,\u001B[49m\n\u001B[1;32m    546\u001B[0m \u001B[43m                    \u001B[49m\u001B[43mpenalty_factor\u001B[49m\u001B[38;5;241;43m=\u001B[39;49m\u001B[43mpenalty_factor\u001B[49m\u001B[43m,\u001B[49m\n\u001B[1;32m    547\u001B[0m \u001B[43m                    \u001B[49m\u001B[43mnlambda\u001B[49m\u001B[38;5;241;43m=\u001B[39;49m\u001B[38;5;241;43m250\u001B[39;49m\u001B[43m,\u001B[49m\n\u001B[1;32m    548\u001B[0m \u001B[43m                    \u001B[49m\u001B[43mlambda_min\u001B[49m\u001B[38;5;241;43m=\u001B[39;49m\u001B[43mnp\u001B[49m\u001B[38;5;241;43m.\u001B[39;49m\u001B[43marray\u001B[49m\u001B[43m(\u001B[49m\u001B[43m[\u001B[49m\u001B[38;5;241;43m1e-6\u001B[39;49m\u001B[43m]\u001B[49m\u001B[43m)\u001B[49m\u001B[43m,\u001B[49m\n\u001B[1;32m    549\u001B[0m \u001B[43m                    \u001B[49m\u001B[43mnfolds\u001B[49m\u001B[38;5;241;43m=\u001B[39;49m\u001B[38;5;241;43m10\u001B[39;49m\u001B[43m,\u001B[49m\n\u001B[1;32m    550\u001B[0m \u001B[43m                    \u001B[49m\u001B[43mfoldid\u001B[49m\u001B[38;5;241;43m=\u001B[39;49m\u001B[43mfoldid\u001B[49m\u001B[43m,\u001B[49m\n\u001B[1;32m    551\u001B[0m \u001B[43m                    \u001B[49m\u001B[43mmaxit\u001B[49m\u001B[38;5;241;43m=\u001B[39;49m\u001B[38;5;241;43m5000\u001B[39;49m\u001B[43m,\u001B[49m\n\u001B[1;32m    552\u001B[0m \u001B[43m                    \u001B[49m\u001B[38;5;241;43m*\u001B[39;49m\u001B[43margs\u001B[49m\u001B[43m,\u001B[49m\n\u001B[1;32m    553\u001B[0m \u001B[43m                    \u001B[49m\u001B[38;5;241;43m*\u001B[39;49m\u001B[38;5;241;43m*\u001B[39;49m\u001B[43mkwargs\u001B[49m\u001B[43m,\u001B[49m\n\u001B[1;32m    554\u001B[0m \u001B[43m                \u001B[49m\u001B[43m)\u001B[49m\n\u001B[1;32m    555\u001B[0m     logger\u001B[38;5;241m.\u001B[39mdebug(\u001B[38;5;124m\"\u001B[39m\u001B[38;5;124mDone with cvglmnet\u001B[39m\u001B[38;5;124m\"\u001B[39m)\n\u001B[1;32m    556\u001B[0m \u001B[38;5;28;01melse\u001B[39;00m:\n",
      "File \u001B[0;32m~/anaconda3/lib/python3.9/site-packages/glmnet_python/cvglmnet.py:243\u001B[0m, in \u001B[0;36mcvglmnet\u001B[0;34m(x, y, family, ptype, nfolds, foldid, parallel, keep, grouped, **options)\u001B[0m\n\u001B[1;32m    240\u001B[0m     options[\u001B[38;5;124m'\u001B[39m\u001B[38;5;124mweights\u001B[39m\u001B[38;5;124m'\u001B[39m] \u001B[38;5;241m=\u001B[39m scipy\u001B[38;5;241m.\u001B[39mones([nobs, \u001B[38;5;241m1\u001B[39m], dtype \u001B[38;5;241m=\u001B[39m scipy\u001B[38;5;241m.\u001B[39mfloat64)\n\u001B[1;32m    242\u001B[0m \u001B[38;5;66;03m# main call to glmnet        \u001B[39;00m\n\u001B[0;32m--> 243\u001B[0m glmfit \u001B[38;5;241m=\u001B[39m \u001B[43mglmnet\u001B[49m\u001B[43m(\u001B[49m\u001B[43mx\u001B[49m\u001B[43m \u001B[49m\u001B[38;5;241;43m=\u001B[39;49m\u001B[43m \u001B[49m\u001B[43mx\u001B[49m\u001B[43m,\u001B[49m\u001B[43m \u001B[49m\u001B[43my\u001B[49m\u001B[43m \u001B[49m\u001B[38;5;241;43m=\u001B[39;49m\u001B[43m \u001B[49m\u001B[43my\u001B[49m\u001B[43m,\u001B[49m\u001B[43m \u001B[49m\u001B[43mfamily\u001B[49m\u001B[43m \u001B[49m\u001B[38;5;241;43m=\u001B[39;49m\u001B[43m \u001B[49m\u001B[43mfamily\u001B[49m\u001B[43m,\u001B[49m\u001B[43m \u001B[49m\u001B[38;5;241;43m*\u001B[39;49m\u001B[38;5;241;43m*\u001B[39;49m\u001B[43moptions\u001B[49m\u001B[43m)\u001B[49m    \n\u001B[1;32m    245\u001B[0m is_offset \u001B[38;5;241m=\u001B[39m glmfit[\u001B[38;5;124m'\u001B[39m\u001B[38;5;124moffset\u001B[39m\u001B[38;5;124m'\u001B[39m]\n\u001B[1;32m    246\u001B[0m options[\u001B[38;5;124m'\u001B[39m\u001B[38;5;124mlambdau\u001B[39m\u001B[38;5;124m'\u001B[39m] \u001B[38;5;241m=\u001B[39m glmfit[\u001B[38;5;124m'\u001B[39m\u001B[38;5;124mlambdau\u001B[39m\u001B[38;5;124m'\u001B[39m]\n",
      "File \u001B[0;32m~/anaconda3/lib/python3.9/site-packages/glmnet_python/glmnet.py:453\u001B[0m, in \u001B[0;36mglmnet\u001B[0;34m(x, y, family, **options)\u001B[0m\n\u001B[1;32m    448\u001B[0m     fit \u001B[38;5;241m=\u001B[39m elnet(x, is_sparse, irs, pcs, y, weights, offset, gtype, parm, \n\u001B[1;32m    449\u001B[0m                 lempty, nvars, jd, vp, cl, ne, nx, nlam, flmin, ulam, \n\u001B[1;32m    450\u001B[0m                 thresh, isd, intr, maxit, family)\n\u001B[1;32m    451\u001B[0m \u001B[38;5;28;01melif\u001B[39;00m (family \u001B[38;5;241m==\u001B[39m \u001B[38;5;124m'\u001B[39m\u001B[38;5;124mbinomial\u001B[39m\u001B[38;5;124m'\u001B[39m) \u001B[38;5;129;01mor\u001B[39;00m (family \u001B[38;5;241m==\u001B[39m \u001B[38;5;124m'\u001B[39m\u001B[38;5;124mmultinomial\u001B[39m\u001B[38;5;124m'\u001B[39m):\n\u001B[1;32m    452\u001B[0m     \u001B[38;5;66;03m# call lognet\u001B[39;00m\n\u001B[0;32m--> 453\u001B[0m     fit \u001B[38;5;241m=\u001B[39m \u001B[43mlognet\u001B[49m\u001B[43m(\u001B[49m\u001B[43mx\u001B[49m\u001B[43m,\u001B[49m\u001B[43m \u001B[49m\u001B[43mis_sparse\u001B[49m\u001B[43m,\u001B[49m\u001B[43m \u001B[49m\u001B[43mirs\u001B[49m\u001B[43m,\u001B[49m\u001B[43m \u001B[49m\u001B[43mpcs\u001B[49m\u001B[43m,\u001B[49m\u001B[43m \u001B[49m\u001B[43my\u001B[49m\u001B[43m,\u001B[49m\u001B[43m \u001B[49m\u001B[43mweights\u001B[49m\u001B[43m,\u001B[49m\u001B[43m \u001B[49m\u001B[43moffset\u001B[49m\u001B[43m,\u001B[49m\u001B[43m \u001B[49m\u001B[43mparm\u001B[49m\u001B[43m,\u001B[49m\n\u001B[1;32m    454\u001B[0m \u001B[43m                 \u001B[49m\u001B[43mnobs\u001B[49m\u001B[43m,\u001B[49m\u001B[43m \u001B[49m\u001B[43mnvars\u001B[49m\u001B[43m,\u001B[49m\u001B[43m \u001B[49m\u001B[43mjd\u001B[49m\u001B[43m,\u001B[49m\u001B[43m \u001B[49m\u001B[43mvp\u001B[49m\u001B[43m,\u001B[49m\u001B[43m \u001B[49m\u001B[43mcl\u001B[49m\u001B[43m,\u001B[49m\u001B[43m \u001B[49m\u001B[43mne\u001B[49m\u001B[43m,\u001B[49m\u001B[43m \u001B[49m\u001B[43mnx\u001B[49m\u001B[43m,\u001B[49m\u001B[43m \u001B[49m\u001B[43mnlam\u001B[49m\u001B[43m,\u001B[49m\u001B[43m \u001B[49m\u001B[43mflmin\u001B[49m\u001B[43m,\u001B[49m\u001B[43m \u001B[49m\u001B[43mulam\u001B[49m\u001B[43m,\u001B[49m\n\u001B[1;32m    455\u001B[0m \u001B[43m                 \u001B[49m\u001B[43mthresh\u001B[49m\u001B[43m,\u001B[49m\u001B[43m \u001B[49m\u001B[43misd\u001B[49m\u001B[43m,\u001B[49m\u001B[43m \u001B[49m\u001B[43mintr\u001B[49m\u001B[43m,\u001B[49m\u001B[43m \u001B[49m\u001B[43mmaxit\u001B[49m\u001B[43m,\u001B[49m\u001B[43m \u001B[49m\u001B[43mkopt\u001B[49m\u001B[43m,\u001B[49m\u001B[43m \u001B[49m\u001B[43mfamily\u001B[49m\u001B[43m)\u001B[49m\n\u001B[1;32m    456\u001B[0m \u001B[38;5;28;01melif\u001B[39;00m family \u001B[38;5;241m==\u001B[39m \u001B[38;5;124m'\u001B[39m\u001B[38;5;124mcox\u001B[39m\u001B[38;5;124m'\u001B[39m:\n\u001B[1;32m    457\u001B[0m     \u001B[38;5;66;03m# call coxnet\u001B[39;00m\n\u001B[1;32m    458\u001B[0m     fit \u001B[38;5;241m=\u001B[39m coxnet(x, is_sparse, irs, pcs, y, weights, offset, parm,\n\u001B[1;32m    459\u001B[0m                  nobs, nvars, jd, vp, cl, ne, nx, nlam, flmin, ulam,\n\u001B[1;32m    460\u001B[0m                  thresh, isd, maxit, family)\n",
      "File \u001B[0;32m~/anaconda3/lib/python3.9/site-packages/glmnet_python/lognet.py:16\u001B[0m, in \u001B[0;36mlognet\u001B[0;34m(x, is_sparse, irs, pcs, y, weights, offset, parm, nobs, nvars, jd, vp, cl, ne, nx, nlam, flmin, ulam, thresh, isd, intr, maxit, kopt, family)\u001B[0m\n\u001B[1;32m     11\u001B[0m \u001B[38;5;28;01mdef\u001B[39;00m \u001B[38;5;21mlognet\u001B[39m(x, is_sparse, irs, pcs, y, weights, offset, parm, \n\u001B[1;32m     12\u001B[0m           nobs, nvars, jd, vp, cl, ne, nx, nlam, flmin, ulam, \n\u001B[1;32m     13\u001B[0m           thresh, isd, intr, maxit, kopt, family):\n\u001B[1;32m     14\u001B[0m \n\u001B[1;32m     15\u001B[0m     \u001B[38;5;66;03m# load shared fortran library\u001B[39;00m\n\u001B[0;32m---> 16\u001B[0m     glmlib \u001B[38;5;241m=\u001B[39m \u001B[43mloadGlmLib\u001B[49m\u001B[43m(\u001B[49m\u001B[43m)\u001B[49m \n\u001B[1;32m     18\u001B[0m     \u001B[38;5;66;03m# \u001B[39;00m\n\u001B[1;32m     19\u001B[0m     noo \u001B[38;5;241m=\u001B[39m y\u001B[38;5;241m.\u001B[39mshape[\u001B[38;5;241m0\u001B[39m]\n",
      "File \u001B[0;32m~/anaconda3/lib/python3.9/site-packages/glmnet_python/loadGlmLib.py:24\u001B[0m, in \u001B[0;36mloadGlmLib\u001B[0;34m()\u001B[0m\n\u001B[1;32m     22\u001B[0m \u001B[38;5;28;01mdef\u001B[39;00m \u001B[38;5;21mloadGlmLib\u001B[39m():\n\u001B[1;32m     23\u001B[0m     \u001B[38;5;28;01mif\u001B[39;00m os\u001B[38;5;241m.\u001B[39mname \u001B[38;5;241m==\u001B[39m \u001B[38;5;124m'\u001B[39m\u001B[38;5;124mposix\u001B[39m\u001B[38;5;124m'\u001B[39m:\n\u001B[0;32m---> 24\u001B[0m         glmlib \u001B[38;5;241m=\u001B[39m \u001B[43mctypes\u001B[49m\u001B[38;5;241;43m.\u001B[39;49m\u001B[43mcdll\u001B[49m\u001B[38;5;241;43m.\u001B[39;49m\u001B[43mLoadLibrary\u001B[49m\u001B[43m(\u001B[49m\u001B[43mglmnet_so\u001B[49m\u001B[43m)\u001B[49m\n\u001B[1;32m     25\u001B[0m         \u001B[38;5;28;01mreturn\u001B[39;00m(glmlib)\n\u001B[1;32m     26\u001B[0m     \u001B[38;5;28;01melif\u001B[39;00m os\u001B[38;5;241m.\u001B[39mname \u001B[38;5;241m==\u001B[39m \u001B[38;5;124m'\u001B[39m\u001B[38;5;124mnt\u001B[39m\u001B[38;5;124m'\u001B[39m:\n\u001B[1;32m     27\u001B[0m         \u001B[38;5;66;03m# this does not currently work\u001B[39;00m\n",
      "File \u001B[0;32m~/anaconda3/lib/python3.9/ctypes/__init__.py:460\u001B[0m, in \u001B[0;36mLibraryLoader.LoadLibrary\u001B[0;34m(self, name)\u001B[0m\n\u001B[1;32m    459\u001B[0m \u001B[38;5;28;01mdef\u001B[39;00m \u001B[38;5;21mLoadLibrary\u001B[39m(\u001B[38;5;28mself\u001B[39m, name):\n\u001B[0;32m--> 460\u001B[0m     \u001B[38;5;28;01mreturn\u001B[39;00m \u001B[38;5;28;43mself\u001B[39;49m\u001B[38;5;241;43m.\u001B[39;49m\u001B[43m_dlltype\u001B[49m\u001B[43m(\u001B[49m\u001B[43mname\u001B[49m\u001B[43m)\u001B[49m\n",
      "File \u001B[0;32m~/anaconda3/lib/python3.9/ctypes/__init__.py:382\u001B[0m, in \u001B[0;36mCDLL.__init__\u001B[0;34m(self, name, mode, handle, use_errno, use_last_error, winmode)\u001B[0m\n\u001B[1;32m    379\u001B[0m \u001B[38;5;28mself\u001B[39m\u001B[38;5;241m.\u001B[39m_FuncPtr \u001B[38;5;241m=\u001B[39m _FuncPtr\n\u001B[1;32m    381\u001B[0m \u001B[38;5;28;01mif\u001B[39;00m handle \u001B[38;5;129;01mis\u001B[39;00m \u001B[38;5;28;01mNone\u001B[39;00m:\n\u001B[0;32m--> 382\u001B[0m     \u001B[38;5;28mself\u001B[39m\u001B[38;5;241m.\u001B[39m_handle \u001B[38;5;241m=\u001B[39m \u001B[43m_dlopen\u001B[49m\u001B[43m(\u001B[49m\u001B[38;5;28;43mself\u001B[39;49m\u001B[38;5;241;43m.\u001B[39;49m\u001B[43m_name\u001B[49m\u001B[43m,\u001B[49m\u001B[43m \u001B[49m\u001B[43mmode\u001B[49m\u001B[43m)\u001B[49m\n\u001B[1;32m    383\u001B[0m \u001B[38;5;28;01melse\u001B[39;00m:\n\u001B[1;32m    384\u001B[0m     \u001B[38;5;28mself\u001B[39m\u001B[38;5;241m.\u001B[39m_handle \u001B[38;5;241m=\u001B[39m handle\n",
      "\u001B[0;31mOSError\u001B[0m: libgfortran.so.3: cannot open shared object file: No such file or directory"
     ]
    }
   ],
   "source": [
    "adjusted = sample_with_target.adjust(variables=['sex', 'race'])"
   ],
   "metadata": {
    "collapsed": false
   }
  }
 ],
 "metadata": {
  "kernelspec": {
   "display_name": "Python 3",
   "language": "python",
   "name": "python3"
  },
  "language_info": {
   "codemirror_mode": {
    "name": "ipython",
    "version": 2
   },
   "file_extension": ".py",
   "mimetype": "text/x-python",
   "name": "python",
   "nbconvert_exporter": "python",
   "pygments_lexer": "ipython2",
   "version": "2.7.6"
  }
 },
 "nbformat": 4,
 "nbformat_minor": 0
}
